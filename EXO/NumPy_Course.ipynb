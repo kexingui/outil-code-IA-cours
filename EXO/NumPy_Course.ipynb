{
  "cells": [
    {
      "cell_type": "markdown",
      "metadata": {
        "id": "view-in-github",
        "colab_type": "text"
      },
      "source": [
        "<a href=\"https://colab.research.google.com/github/Biline-dev/AI_tools/blob/main/NumPy_Course.ipynb\" target=\"_parent\"><img src=\"https://colab.research.google.com/assets/colab-badge.svg\" alt=\"Open In Colab\"/></a>"
      ]
    },
    {
      "cell_type": "code",
      "execution_count": null,
      "id": "a75b2685-301f-4790-bb7d-15090a1f97db",
      "metadata": {
        "id": "a75b2685-301f-4790-bb7d-15090a1f97db"
      },
      "outputs": [],
      "source": [
        "# Author : Mehdi Ammi, Univ. Paris 8"
      ]
    },
    {
      "cell_type": "markdown",
      "id": "b29d51f3-6462-4067-a31a-84f5d8b82de1",
      "metadata": {
        "id": "b29d51f3-6462-4067-a31a-84f5d8b82de1"
      },
      "source": [
        "# Introduction to NumPy"
      ]
    },
    {
      "cell_type": "markdown",
      "id": "f884c061-c51e-42e5-bf19-6b08b8409761",
      "metadata": {
        "id": "f884c061-c51e-42e5-bf19-6b08b8409761"
      },
      "source": [
        "NumPy (Numerical Python) is a Python library for scientific computing, that provide high-performance vector, matrix, and higher-dimensional data structures for Python. It is implemented in C and Fortran so when calculations are vectorized (formulated with vectors and matrices), the performance is very good.\n",
        "\n",
        "[Official Documentation](https://numpy.org/)\n",
        "\n",
        "It offers ndarray data structure for storing and ufuncs for efficiently processing the (homogeneous) data. Some of the important functionalities include: basic slicing, advanced or fancy indexing, broadcasting, etc.\n",
        "\n",
        "**How are NumPy arrays different from Python lists?**\n",
        " - Python lists are very general. They can contain any kind of object. They are dynamically typed.\n",
        " - They do not support mathematical functions such as matrix and dot multiplications, etc. Implementing such functions for Python lists would not be very efficient because of the dynamic typing.\n",
        " - Numpy arrays are statically typed and homogeneous. The type of the elements is determined when the array is created.\n",
        " - Numpy arrays are memory efficient.\n",
        " - Because of the static typing, fast implementation of mathematical functions such as multiplication and addition of numpy arrays can be implemented in a compiled language (C and Fortran is used)."
      ]
    },
    {
      "cell_type": "markdown",
      "id": "313aa6d5-8935-49bb-8955-d245b7b68b57",
      "metadata": {
        "id": "313aa6d5-8935-49bb-8955-d245b7b68b57"
      },
      "source": [
        "## Creating N-dimensional NumPy arrays"
      ]
    },
    {
      "cell_type": "markdown",
      "id": "fa5fe73f-11ce-482b-ad0b-b37bd5507c75",
      "metadata": {
        "id": "fa5fe73f-11ce-482b-ad0b-b37bd5507c75"
      },
      "source": [
        "### Loading Libraries\n",
        "\n",
        "First, let's import the necessary libraries:"
      ]
    },
    {
      "cell_type": "code",
      "execution_count": null,
      "id": "d3564034-95b5-4ae5-85c4-69f3741e521b",
      "metadata": {
        "colab": {
          "base_uri": "https://localhost:8080/",
          "height": 35
        },
        "id": "d3564034-95b5-4ae5-85c4-69f3741e521b",
        "outputId": "c54d9ca3-672c-4b12-8d6a-5afee412687e"
      },
      "outputs": [
        {
          "output_type": "execute_result",
          "data": {
            "text/plain": [
              "'1.26.4'"
            ],
            "application/vnd.google.colaboratory.intrinsic+json": {
              "type": "string"
            }
          },
          "metadata": {},
          "execution_count": 40
        }
      ],
      "source": [
        "import numpy as np\n",
        "\n",
        "# check version\n",
        "np.__version__"
      ]
    },
    {
      "cell_type": "markdown",
      "id": "0b8e4dde-1670-4b13-8d22-ea3ab63dc358",
      "metadata": {
        "id": "0b8e4dde-1670-4b13-8d22-ea3ab63dc358"
      },
      "source": [
        "There are a number of ways to initialize new numpy arrays, for example from\n",
        "\n",
        " - a Python list or tuples\n",
        " - using functions that are dedicated to generating numpy arrays, such as numpy.arange, numpy.linspace, etc.\n",
        " - reading data from files\n",
        "\n",
        "### From lists\n",
        "\n",
        "To create new vector and matrix arrays using Python lists we can use the numpy.array() function."
      ]
    },
    {
      "cell_type": "code",
      "execution_count": null,
      "id": "7944d53c-2e4f-4758-8e7e-e0cb8493c5d3",
      "metadata": {
        "colab": {
          "base_uri": "https://localhost:8080/"
        },
        "id": "7944d53c-2e4f-4758-8e7e-e0cb8493c5d3",
        "outputId": "3255c000-7697-45f3-eb23-207dab670104"
      },
      "outputs": [
        {
          "output_type": "execute_result",
          "data": {
            "text/plain": [
              "array([1, 2, 3, 4], dtype=int32)"
            ]
          },
          "metadata": {},
          "execution_count": 41
        }
      ],
      "source": [
        "# a vector: the argument to the array function is a Python list\n",
        "# more generally, 1D array\n",
        "lst = [1,2,3,4.0]\n",
        "v = np.array(lst, dtype=np.int32)\n",
        "\n",
        "v"
      ]
    },
    {
      "cell_type": "code",
      "execution_count": null,
      "id": "7d941f84-a910-4ae5-b4bf-0d123155d78c",
      "metadata": {
        "colab": {
          "base_uri": "https://localhost:8080/"
        },
        "id": "7d941f84-a910-4ae5-b4bf-0d123155d78c",
        "outputId": "5320d469-4222-421d-9103-15dbfb2c576e"
      },
      "outputs": [
        {
          "output_type": "execute_result",
          "data": {
            "text/plain": [
              "array([[1, 2],\n",
              "       [3, 4]])"
            ]
          },
          "metadata": {},
          "execution_count": 42
        }
      ],
      "source": [
        "# a matrix: the argument to the array function is a nested Python list (can also be a tuple of tuples)\n",
        "# more generally, a 2D array\n",
        "list_of_lists = [[1, 2], [3, 4]]\n",
        "M = np.array(list_of_lists)\n",
        "\n",
        "M"
      ]
    },
    {
      "cell_type": "code",
      "execution_count": null,
      "id": "541df4c2-fb2c-4d76-aa58-7405cf7e5c14",
      "metadata": {
        "colab": {
          "base_uri": "https://localhost:8080/"
        },
        "id": "541df4c2-fb2c-4d76-aa58-7405cf7e5c14",
        "outputId": "46f1d6fc-1910-4949-9ae3-bb9540424abe"
      },
      "outputs": [
        {
          "output_type": "execute_result",
          "data": {
            "text/plain": [
              "array([[1, 2, 3, 4]], dtype=int32)"
            ]
          },
          "metadata": {},
          "execution_count": 43
        }
      ],
      "source": [
        "# a row vector\n",
        "\n",
        "row_vec = v[np.newaxis, :]  # v[None, :]\n",
        "row_vec"
      ]
    },
    {
      "cell_type": "code",
      "execution_count": null,
      "id": "f162be03-946a-44c5-a688-851a294b85b9",
      "metadata": {
        "colab": {
          "base_uri": "https://localhost:8080/"
        },
        "id": "f162be03-946a-44c5-a688-851a294b85b9",
        "outputId": "250e84ab-a3ad-4d68-9397-64dc7d8617b1"
      },
      "outputs": [
        {
          "output_type": "execute_result",
          "data": {
            "text/plain": [
              "array([[1],\n",
              "       [2],\n",
              "       [3],\n",
              "       [4]], dtype=int32)"
            ]
          },
          "metadata": {},
          "execution_count": 44
        }
      ],
      "source": [
        "# a column vector\n",
        "col_vec = v[:, np.newaxis]  # v[:, None]\n",
        "col_vec"
      ]
    },
    {
      "cell_type": "markdown",
      "id": "7d5830a0-474d-4c56-b626-c77b9c01bb91",
      "metadata": {
        "id": "7d5830a0-474d-4c56-b626-c77b9c01bb91"
      },
      "source": [
        "### Construction using intrinsic array generating functions\n",
        "\n",
        "NumPy provides many functions for generating arrays. Some of them are:\n",
        "\n",
        " - numpy.arange()\n",
        " - numpy.linspace()\n",
        " - numpy.logspace()\n",
        " - numpy.random."
      ]
    },
    {
      "cell_type": "code",
      "execution_count": null,
      "id": "199955ce-b519-46e5-8b01-e6f5f7df059d",
      "metadata": {
        "colab": {
          "base_uri": "https://localhost:8080/"
        },
        "id": "199955ce-b519-46e5-8b01-e6f5f7df059d",
        "outputId": "0227cccc-b4de-4b64-93f6-a10412d8ed90"
      },
      "outputs": [
        {
          "output_type": "execute_result",
          "data": {
            "text/plain": [
              "array([ 0.        ,  0.20408163,  0.40816327,  0.6122449 ,  0.81632653,\n",
              "        1.02040816,  1.2244898 ,  1.42857143,  1.63265306,  1.83673469,\n",
              "        2.04081633,  2.24489796,  2.44897959,  2.65306122,  2.85714286,\n",
              "        3.06122449,  3.26530612,  3.46938776,  3.67346939,  3.87755102,\n",
              "        4.08163265,  4.28571429,  4.48979592,  4.69387755,  4.89795918,\n",
              "        5.10204082,  5.30612245,  5.51020408,  5.71428571,  5.91836735,\n",
              "        6.12244898,  6.32653061,  6.53061224,  6.73469388,  6.93877551,\n",
              "        7.14285714,  7.34693878,  7.55102041,  7.75510204,  7.95918367,\n",
              "        8.16326531,  8.36734694,  8.57142857,  8.7755102 ,  8.97959184,\n",
              "        9.18367347,  9.3877551 ,  9.59183673,  9.79591837, 10.        ])"
            ]
          },
          "metadata": {},
          "execution_count": 45
        }
      ],
      "source": [
        "# when using linspace, both end points ARE included\n",
        "np.linspace(0, 10)"
      ]
    },
    {
      "cell_type": "code",
      "execution_count": null,
      "id": "2413a1f2-6ae9-48b1-8af7-421ae67295ea",
      "metadata": {
        "colab": {
          "base_uri": "https://localhost:8080/"
        },
        "id": "2413a1f2-6ae9-48b1-8af7-421ae67295ea",
        "outputId": "508d117a-2e14-46c2-ba79-e08297d5ffc4"
      },
      "outputs": [
        {
          "output_type": "execute_result",
          "data": {
            "text/plain": [
              "array([  1.        ,   1.742909  ,   3.03773178,   5.29449005,\n",
              "         9.22781435,  16.08324067,  28.03162489,  48.85657127,\n",
              "        85.15255772, 148.4131591 ])"
            ]
          },
          "metadata": {},
          "execution_count": 46
        }
      ],
      "source": [
        "np.logspace(0, 5, 10, base=np.e)"
      ]
    },
    {
      "cell_type": "code",
      "execution_count": null,
      "id": "be944252-6c99-431e-aebe-71d8275f4b1e",
      "metadata": {
        "colab": {
          "base_uri": "https://localhost:8080/"
        },
        "id": "be944252-6c99-431e-aebe-71d8275f4b1e",
        "outputId": "539f1a84-acdc-4987-a019-71767f3043ea"
      },
      "outputs": [
        {
          "output_type": "execute_result",
          "data": {
            "text/plain": [
              "array([[[ 1.32918385,  1.59730823, -1.23358874,  0.01722376],\n",
              "        [ 0.22399228,  0.59231958, -1.3217565 ,  1.07420116],\n",
              "        [ 0.62768803, -0.18151346,  0.03010093,  0.72352271]],\n",
              "\n",
              "       [[ 0.16388022, -0.38239364, -0.95048994, -0.41834918],\n",
              "        [ 0.60842398,  0.72946928,  0.8280533 , -0.36271129],\n",
              "        [-0.62650917,  0.68627103,  0.62218557,  1.00668332]]])"
            ]
          },
          "metadata": {},
          "execution_count": 47
        }
      ],
      "source": [
        "# a 3D array\n",
        "# a random array where the values come from a standard Normal distribution\n",
        "gaussian = np.random.randn(2 * 3 * 4)\n",
        "\n",
        "# reshape the array to desired shape.\n",
        "# only the number of dimensions can be altered\n",
        "# the number of elements CANNOT be changed during a reshape operation\n",
        "\n",
        "gaussian = gaussian.reshape(2, 3, 4)\n",
        "gaussian"
      ]
    },
    {
      "cell_type": "code",
      "execution_count": null,
      "id": "0b096a30-9115-403e-a263-021a1040df4d",
      "metadata": {
        "colab": {
          "base_uri": "https://localhost:8080/"
        },
        "id": "0b096a30-9115-403e-a263-021a1040df4d",
        "outputId": "3941ffbd-a013-4707-ee55-333dfb0547b4"
      },
      "outputs": [
        {
          "output_type": "execute_result",
          "data": {
            "text/plain": [
              "array([[0., 0., 0., 0.],\n",
              "       [0., 0., 0., 0.],\n",
              "       [0., 0., 0., 0.]])"
            ]
          },
          "metadata": {},
          "execution_count": 48
        }
      ],
      "source": [
        "# an array full of zero values\n",
        "# one can also specify a desired datatype\n",
        "\n",
        "zero_arr = np.zeros((3, 4))\n",
        "zero_arr"
      ]
    },
    {
      "cell_type": "code",
      "execution_count": null,
      "id": "a361b4b3-4479-4607-9f61-c61891b2cdbe",
      "metadata": {
        "colab": {
          "base_uri": "https://localhost:8080/"
        },
        "id": "a361b4b3-4479-4607-9f61-c61891b2cdbe",
        "outputId": "25be4f91-3cfa-462c-e6b9-a9009e3f3a69"
      },
      "outputs": [
        {
          "output_type": "execute_result",
          "data": {
            "text/plain": [
              "array([[1., 1., 1., 1.],\n",
              "       [1., 1., 1., 1.],\n",
              "       [1., 1., 1., 1.]], dtype=float32)"
            ]
          },
          "metadata": {},
          "execution_count": 49
        }
      ],
      "source": [
        "# an array full of ones\n",
        "# one can also specify datatype\n",
        "\n",
        "ones_arr = np.ones((3, 4), dtype=np.float32)\n",
        "ones_arr"
      ]
    },
    {
      "cell_type": "code",
      "execution_count": null,
      "id": "650e8412-67e9-4e67-a4a4-62c497ada750",
      "metadata": {
        "colab": {
          "base_uri": "https://localhost:8080/"
        },
        "id": "650e8412-67e9-4e67-a4a4-62c497ada750",
        "outputId": "c3d68089-bbbd-47b5-957e-46c6a376e4ac"
      },
      "outputs": [
        {
          "output_type": "execute_result",
          "data": {
            "text/plain": [
              "array([[1., 0., 0.],\n",
              "       [0., 1., 0.],\n",
              "       [0., 0., 1.]], dtype=float128)"
            ]
          },
          "metadata": {},
          "execution_count": 50
        }
      ],
      "source": [
        "# a 3x3 identity (matrix) array\n",
        "\n",
        "iden = np.identity(3, dtype=np.float128)  # np.eye(4, dtype=np.float128)\n",
        "iden"
      ]
    },
    {
      "cell_type": "code",
      "execution_count": null,
      "id": "5238be2b-38ab-460a-b684-51535ec99c7f",
      "metadata": {
        "colab": {
          "base_uri": "https://localhost:8080/"
        },
        "id": "5238be2b-38ab-460a-b684-51535ec99c7f",
        "outputId": "bbd0e854-3829-4890-c842-8d0eddf9f548"
      },
      "outputs": [
        {
          "output_type": "execute_result",
          "data": {
            "text/plain": [
              "array([[1., 0., 0., 0.],\n",
              "       [0., 2., 0., 0.],\n",
              "       [0., 0., 3., 0.],\n",
              "       [0., 0., 0., 4.]])"
            ]
          },
          "metadata": {},
          "execution_count": 51
        }
      ],
      "source": [
        "# a diagonal array\n",
        "\n",
        "diag = np.diag([1, 2, 3, 4.0])\n",
        "diag"
      ]
    },
    {
      "cell_type": "markdown",
      "id": "57f78c86-b5a4-4020-a16f-7a71ba7ffadb",
      "metadata": {
        "id": "57f78c86-b5a4-4020-a16f-7a71ba7ffadb"
      },
      "source": [
        "## NumPy Array Attributes\n",
        "\n",
        "Attributes of arrays include:\n",
        "- **Determining the size, shape, memory consumption, and data types of arrays**\n",
        "- **Indexing of arrays**: Getting and setting the value of individual array elements\n",
        "- **Slicing of arrays**: Getting and setting smaller subarrays within a larger array\n",
        "- **Reshaping of arrays**: Changing the shape of a given array\n",
        "- **Joining and splitting of arrays**: Combining multiple arrays into one, and splitting one array into many\n",
        "\n",
        "Each array has attributes such as:\n",
        "\n",
        "- `ndim`: The number of dimensions\n",
        "- `shape`: The size of each dimension\n",
        "- `size`: The total number of elements in the array"
      ]
    },
    {
      "cell_type": "code",
      "execution_count": null,
      "id": "c3b8a71d-8d08-4e54-9a86-9d0a93ea766e",
      "metadata": {
        "id": "c3b8a71d-8d08-4e54-9a86-9d0a93ea766e"
      },
      "outputs": [],
      "source": [
        "# a 3D random array where the values come from a standard Normal distribution\n",
        "gaussian = np.random.randn(2 * 3 * 4).reshape((2, 3, 4))"
      ]
    },
    {
      "cell_type": "code",
      "execution_count": null,
      "id": "f0e123ea-f456-4be6-a3f1-e68af26b5b94",
      "metadata": {
        "id": "f0e123ea-f456-4be6-a3f1-e68af26b5b94",
        "colab": {
          "base_uri": "https://localhost:8080/"
        },
        "outputId": "d0d56676-d4a7-44a2-d790-7a27d11f6f8f"
      },
      "outputs": [
        {
          "output_type": "stream",
          "name": "stdout",
          "text": [
            "total dimensions of the array is:  3\n",
            "the shape of the array is:  (2, 3, 4)\n",
            "total number of items is:  24\n",
            "memory consumed by each item is:  8\n",
            "total memory consumed by the whole array is:  192\n"
          ]
        }
      ],
      "source": [
        "# get number of dimensions of the array\n",
        "gaussian.ndim\n",
        "print(\"total dimensions of the array is: \", gaussian.ndim)\n",
        "\n",
        "# get the shape of the array\n",
        "gaussian.shape\n",
        "print(\"the shape of the array is: \", gaussian.shape)\n",
        "\n",
        "# get the total number of elements in the array\n",
        "gaussian.size\n",
        "print(\"total number of items is: \", gaussian.size)\n",
        "\n",
        "# get memory consumed by each item in the array\n",
        "gaussian.itemsize\n",
        "print(\"memory consumed by each item is: \", gaussian.itemsize)\n",
        "\n",
        "# get memory consumed by the array\n",
        "gaussian.nbytes\n",
        "print(\"total memory consumed by the whole array is: \", gaussian.nbytes)"
      ]
    },
    {
      "cell_type": "markdown",
      "id": "5ad23b67-5766-48a8-ac4c-4aeb83b65e7c",
      "metadata": {
        "id": "5ad23b67-5766-48a8-ac4c-4aeb83b65e7c"
      },
      "source": [
        "## Array Indexing\n",
        "\n",
        "We can index elements in an array using square brackets and indices. For 1D arrays, indexing works the same as with Python list."
      ]
    },
    {
      "cell_type": "code",
      "execution_count": null,
      "id": "4f97a8b4-60df-4cfb-be25-44850dd90252",
      "metadata": {
        "id": "4f97a8b4-60df-4cfb-be25-44850dd90252",
        "colab": {
          "base_uri": "https://localhost:8080/"
        },
        "outputId": "8514c25e-01b3-4b4a-c6e5-2d404d6c52aa"
      },
      "outputs": [
        {
          "output_type": "execute_result",
          "data": {
            "text/plain": [
              "array([ 5, 20, 22, 16,  5,  4,  9,  8,  1, 22])"
            ]
          },
          "metadata": {},
          "execution_count": 54
        }
      ],
      "source": [
        "# 1D array of random integers\n",
        "# get 10 integers from 0 to 23\n",
        "\n",
        "num_samples = 10\n",
        "integers = np.random.randint(23, size=num_samples)\n",
        "integers"
      ]
    },
    {
      "cell_type": "code",
      "execution_count": null,
      "id": "0f587664-43a7-4ed9-88c4-765e6352f8cf",
      "metadata": {
        "id": "0f587664-43a7-4ed9-88c4-765e6352f8cf",
        "colab": {
          "base_uri": "https://localhost:8080/"
        },
        "outputId": "7a0977f1-b2a4-41d7-b191-93d7181a25b7"
      },
      "outputs": [
        {
          "output_type": "execute_result",
          "data": {
            "text/plain": [
              "22"
            ]
          },
          "metadata": {},
          "execution_count": 55
        }
      ],
      "source": [
        "# indexing 1D array needs only one index\n",
        "# get 3rd element (remember: NumPy unlike MATLAB is 0 based indexing)\n",
        "integers[2]"
      ]
    },
    {
      "cell_type": "code",
      "execution_count": null,
      "id": "f3dd4fab-33b7-45a3-ba69-0706539837a7",
      "metadata": {
        "id": "f3dd4fab-33b7-45a3-ba69-0706539837a7",
        "colab": {
          "base_uri": "https://localhost:8080/"
        },
        "outputId": "30217f7f-879e-44c0-95a6-57d81717a226"
      },
      "outputs": [
        {
          "output_type": "execute_result",
          "data": {
            "text/plain": [
              "array([[ 1,  2,  3,  4,  5,  6,  7,  8,  9, 10, 11, 12, 13, 14, 15],\n",
              "       [16, 17, 18, 19, 20, 21, 22, 23, 24, 25, 26, 27, 28, 29, 30],\n",
              "       [31, 32, 33, 34, 35, 36, 37, 38, 39, 40, 41, 42, 43, 44, 45]])"
            ]
          },
          "metadata": {},
          "execution_count": 56
        }
      ],
      "source": [
        "twoD_arr = np.arange(1, 46).reshape(3, -1)\n",
        "twoD_arr"
      ]
    },
    {
      "cell_type": "code",
      "execution_count": null,
      "id": "c1bd2694-3730-4be9-bfde-0b1b68e5d534",
      "metadata": {
        "id": "c1bd2694-3730-4be9-bfde-0b1b68e5d534",
        "colab": {
          "base_uri": "https://localhost:8080/"
        },
        "outputId": "818f9c82-94d5-4acd-e69b-1bd75e77302a"
      },
      "outputs": [
        {
          "output_type": "execute_result",
          "data": {
            "text/plain": [
              "45"
            ]
          },
          "metadata": {},
          "execution_count": 57
        }
      ],
      "source": [
        "# indexing 2D array needs only two indices.\n",
        "# then it returns a scalar value\n",
        "\n",
        "# value at last row and last column\n",
        "twoD_arr[-1, -1]"
      ]
    },
    {
      "cell_type": "code",
      "execution_count": null,
      "id": "e3653a6c-9a07-48a6-b7bf-d6d5374dbd45",
      "metadata": {
        "id": "e3653a6c-9a07-48a6-b7bf-d6d5374dbd45",
        "colab": {
          "base_uri": "https://localhost:8080/"
        },
        "outputId": "1c4b3998-a864-4fad-d12f-c855cb01152b"
      },
      "outputs": [
        {
          "output_type": "execute_result",
          "data": {
            "text/plain": [
              "array([31, 32, 33, 34, 35, 36, 37, 38, 39, 40, 41, 42, 43, 44, 45])"
            ]
          },
          "metadata": {},
          "execution_count": 58
        }
      ],
      "source": [
        "# however, if we use only one (valid) index then it returns a 1D array\n",
        "\n",
        "# get all elments in the last row\n",
        "twoD_arr[-1]  # or twoD_arr[-1, ] or twoD_arr[-1, :]"
      ]
    },
    {
      "cell_type": "code",
      "execution_count": null,
      "id": "70fbe358-e898-496c-9266-b480c7354afc",
      "metadata": {
        "id": "70fbe358-e898-496c-9266-b480c7354afc",
        "colab": {
          "base_uri": "https://localhost:8080/"
        },
        "outputId": "014f0423-35e3-49ac-bcdd-7793d37f0d26"
      },
      "outputs": [
        {
          "output_type": "execute_result",
          "data": {
            "text/plain": [
              "array([[[-0.02111583,  0.15415066, -1.25911098, -1.84180023],\n",
              "        [ 0.15874514,  0.36685961, -0.19404613,  1.80527943],\n",
              "        [ 1.53596738,  0.22748903, -0.12028922, -1.04369832]],\n",
              "\n",
              "       [[-0.60452324, -0.58132381,  0.29501749,  0.19598529],\n",
              "        [ 1.73513035,  0.09083205, -0.22518703, -0.23773684],\n",
              "        [ 0.50859553, -0.17579074,  0.70604884, -1.08976629]]])"
            ]
          },
          "metadata": {},
          "execution_count": 59
        }
      ],
      "source": [
        "# remember `gaussian` is a 3D array.\n",
        "gaussian"
      ]
    },
    {
      "cell_type": "code",
      "execution_count": null,
      "id": "0159d1ed-762a-4749-a5eb-4638d075a8d6",
      "metadata": {
        "id": "0159d1ed-762a-4749-a5eb-4638d075a8d6",
        "colab": {
          "base_uri": "https://localhost:8080/"
        },
        "outputId": "15d6be7c-9319-4814-a016-f204672df545"
      },
      "outputs": [
        {
          "output_type": "execute_result",
          "data": {
            "text/plain": [
              "array([[-0.60452324, -0.58132381,  0.29501749,  0.19598529],\n",
              "       [ 1.73513035,  0.09083205, -0.22518703, -0.23773684],\n",
              "       [ 0.50859553, -0.17579074,  0.70604884, -1.08976629]])"
            ]
          },
          "metadata": {},
          "execution_count": 60
        }
      ],
      "source": [
        "# So, a 2D array is returned when using one index\n",
        "\n",
        "# return last slice\n",
        "gaussian[-1]"
      ]
    },
    {
      "cell_type": "code",
      "execution_count": null,
      "id": "d93a33a2-183f-4e89-af53-f9e7971af5ae",
      "metadata": {
        "id": "d93a33a2-183f-4e89-af53-f9e7971af5ae",
        "colab": {
          "base_uri": "https://localhost:8080/"
        },
        "outputId": "e0f3e3bc-9691-439a-c51c-b6b67523d7ce"
      },
      "outputs": [
        {
          "output_type": "execute_result",
          "data": {
            "text/plain": [
              "array([-0.60452324, -0.58132381,  0.29501749,  0.19598529])"
            ]
          },
          "metadata": {},
          "execution_count": 61
        }
      ],
      "source": [
        "# a 1D array is returned when using a pair of indices\n",
        "\n",
        "# return first row from last slice\n",
        "gaussian[-1, 0]"
      ]
    },
    {
      "cell_type": "code",
      "execution_count": null,
      "id": "c45289d1-11f0-45bf-a3ae-721b0446e810",
      "metadata": {
        "id": "c45289d1-11f0-45bf-a3ae-721b0446e810",
        "colab": {
          "base_uri": "https://localhost:8080/"
        },
        "outputId": "abfc525b-a736-4690-b99c-4e1d56f62232"
      },
      "outputs": [
        {
          "output_type": "execute_result",
          "data": {
            "text/plain": [
              "array([ 0.50859553, -0.17579074,  0.70604884, -1.08976629])"
            ]
          },
          "metadata": {},
          "execution_count": 62
        }
      ],
      "source": [
        "# return last row from last slice\n",
        "gaussian[-1, -1]"
      ]
    },
    {
      "cell_type": "code",
      "execution_count": null,
      "id": "23a6ed59-7b05-4ee9-a0a3-bca1bf44ee3b",
      "metadata": {
        "id": "23a6ed59-7b05-4ee9-a0a3-bca1bf44ee3b",
        "colab": {
          "base_uri": "https://localhost:8080/"
        },
        "outputId": "1dc4f6fd-7a7e-419f-a197-ec7fd2b875fa"
      },
      "outputs": [
        {
          "output_type": "execute_result",
          "data": {
            "text/plain": [
              "-1.089766288212519"
            ]
          },
          "metadata": {},
          "execution_count": 63
        }
      ],
      "source": [
        "# return last element of row of last slice\n",
        "idx = (-1, -1, -1)\n",
        "gaussian[idx]"
      ]
    },
    {
      "cell_type": "markdown",
      "id": "391f0a70-a2c1-4b8d-aa35-de85d277884e",
      "metadata": {
        "id": "391f0a70-a2c1-4b8d-aa35-de85d277884e"
      },
      "source": [
        "We can also assign new values to elements in an array using indexing:"
      ]
    },
    {
      "cell_type": "code",
      "execution_count": null,
      "id": "9c3e01fe-ea0b-40a7-80ed-5e23f9218109",
      "metadata": {
        "id": "9c3e01fe-ea0b-40a7-80ed-5e23f9218109",
        "colab": {
          "base_uri": "https://localhost:8080/"
        },
        "outputId": "16e6923f-4718-4332-8a96-0f5559af11f1"
      },
      "outputs": [
        {
          "output_type": "execute_result",
          "data": {
            "text/plain": [
              "array([ 5, 20, 99, 16,  5,  4,  9,  8,  1, 22])"
            ]
          },
          "metadata": {},
          "execution_count": 64
        }
      ],
      "source": [
        "# updating the array by assigning values\n",
        "# truncation will happen if there's a datatype mismatch\n",
        "#print(integers)\n",
        "integers[2] = 99.21\n",
        "integers"
      ]
    },
    {
      "cell_type": "markdown",
      "id": "6898df0d-88d1-4a35-98c1-0fdac7efda03",
      "metadata": {
        "id": "6898df0d-88d1-4a35-98c1-0fdac7efda03"
      },
      "source": [
        "## Index slicing\n",
        "\n",
        "Index slicing is the technical name for the syntax M[lower:upper:step] to extract part of an array.\n",
        "Negative indices counts from the end of the array (positive index from the begining):"
      ]
    },
    {
      "cell_type": "code",
      "execution_count": null,
      "id": "e9c17283-8d95-47ac-9b47-0fd5e3dca2bf",
      "metadata": {
        "id": "e9c17283-8d95-47ac-9b47-0fd5e3dca2bf",
        "colab": {
          "base_uri": "https://localhost:8080/"
        },
        "outputId": "49570091-4842-4fb9-9b05-dc6dc51668c0"
      },
      "outputs": [
        {
          "output_type": "execute_result",
          "data": {
            "text/plain": [
              "array([ 5, 20, 99, 16,  5,  4,  9,  8,  1, 22])"
            ]
          },
          "metadata": {},
          "execution_count": 65
        }
      ],
      "source": [
        "integers"
      ]
    },
    {
      "cell_type": "code",
      "execution_count": null,
      "id": "f5f40502-9671-4e7e-af20-f94954356989",
      "metadata": {
        "id": "f5f40502-9671-4e7e-af20-f94954356989",
        "colab": {
          "base_uri": "https://localhost:8080/"
        },
        "outputId": "a11eb151-78d7-4e03-8b1c-2c75804936f6"
      },
      "outputs": [
        {
          "output_type": "execute_result",
          "data": {
            "text/plain": [
              "array([ 4,  9,  8,  1, 22])"
            ]
          },
          "metadata": {},
          "execution_count": 66
        }
      ],
      "source": [
        "# slice a portion of the array\n",
        "# similar to Python iterator slicing\n",
        "# x[start:stop:step]\n",
        "\n",
        "# get last 5 elements\n",
        "integers[-5:]\n",
        "\n",
        "# if `stop` is omitted then it'll be sliced till the end of the array\n",
        "# by default, step is 1"
      ]
    },
    {
      "cell_type": "code",
      "execution_count": null,
      "id": "79fd30b6-5508-4b96-a655-239382ebd5f2",
      "metadata": {
        "id": "79fd30b6-5508-4b96-a655-239382ebd5f2",
        "colab": {
          "base_uri": "https://localhost:8080/"
        },
        "outputId": "c763057f-8962-44c3-aade-e9ae098d65f2"
      },
      "outputs": [
        {
          "output_type": "execute_result",
          "data": {
            "text/plain": [
              "array([19,  7, 12,  8, 21])"
            ]
          },
          "metadata": {},
          "execution_count": 67
        }
      ],
      "source": [
        "np.array([19,  7, 12,  8, 21])"
      ]
    },
    {
      "cell_type": "code",
      "execution_count": null,
      "id": "7db630b7-78f0-4f07-b1eb-62ce2f34d05a",
      "metadata": {
        "id": "7db630b7-78f0-4f07-b1eb-62ce2f34d05a",
        "colab": {
          "base_uri": "https://localhost:8080/"
        },
        "outputId": "2b3a4090-7130-44ca-8277-7004c55e6bf6"
      },
      "outputs": [
        {
          "output_type": "execute_result",
          "data": {
            "text/plain": [
              "array([ 5, 99,  5,  9,  1])"
            ]
          },
          "metadata": {},
          "execution_count": 68
        }
      ],
      "source": [
        "# get alternative elements (every other element) from the array\n",
        "# equivalently step = 2\n",
        "\n",
        "integers[::2]"
      ]
    },
    {
      "cell_type": "code",
      "execution_count": null,
      "id": "94ca0aab-7eb0-4140-b3cb-ab9dc43c834a",
      "metadata": {
        "id": "94ca0aab-7eb0-4140-b3cb-ab9dc43c834a",
        "colab": {
          "base_uri": "https://localhost:8080/"
        },
        "outputId": "2f4c78de-08ff-4f65-f4fd-dc309799cff7"
      },
      "outputs": [
        {
          "output_type": "execute_result",
          "data": {
            "text/plain": [
              "array([ 0, 99, 22,  7,  8])"
            ]
          },
          "metadata": {},
          "execution_count": 69
        }
      ],
      "source": [
        "np.array([ 0, 99, 22,  7,  8])"
      ]
    },
    {
      "cell_type": "code",
      "execution_count": null,
      "id": "094c6db3-f7f3-43f9-a919-9c42acec2843",
      "metadata": {
        "id": "094c6db3-f7f3-43f9-a919-9c42acec2843",
        "colab": {
          "base_uri": "https://localhost:8080/"
        },
        "outputId": "a0cc85be-a562-4caa-836f-1ae35ab0811f"
      },
      "outputs": [
        {
          "output_type": "execute_result",
          "data": {
            "text/plain": [
              "array([22,  1,  8,  9,  4,  5, 16, 99, 20,  5])"
            ]
          },
          "metadata": {},
          "execution_count": 70
        }
      ],
      "source": [
        "# reversing the array\n",
        "integers[::-1]"
      ]
    },
    {
      "cell_type": "code",
      "execution_count": null,
      "id": "d57b3a8a-607e-490c-a3a3-1f8f751016e5",
      "metadata": {
        "id": "d57b3a8a-607e-490c-a3a3-1f8f751016e5",
        "colab": {
          "base_uri": "https://localhost:8080/"
        },
        "outputId": "6f0e3f0e-c1e3-4c82-fb13-682a7d136a0b"
      },
      "outputs": [
        {
          "output_type": "execute_result",
          "data": {
            "text/plain": [
              "array([21,  8, 12,  7, 19, 22,  6, 99,  4,  0])"
            ]
          },
          "metadata": {},
          "execution_count": 71
        }
      ],
      "source": [
        "np.array([21,  8, 12,  7, 19, 22,  6, 99,  4,  0])"
      ]
    },
    {
      "cell_type": "code",
      "execution_count": null,
      "id": "d87776ef-f9d8-4f2b-bcd7-179878143cd1",
      "metadata": {
        "id": "d87776ef-f9d8-4f2b-bcd7-179878143cd1",
        "colab": {
          "base_uri": "https://localhost:8080/"
        },
        "outputId": "0b46fe32-c1eb-4099-91ca-d3dfad2aa55b"
      },
      "outputs": [
        {
          "output_type": "execute_result",
          "data": {
            "text/plain": [
              "array([16,  5,  4,  9,  8,  1, 22])"
            ]
          },
          "metadata": {},
          "execution_count": 72
        }
      ],
      "source": [
        "# forward traversal of array\n",
        "integers[3::]"
      ]
    },
    {
      "cell_type": "code",
      "execution_count": null,
      "id": "96bd8c3b-1d97-4377-b639-4e1eac13dd82",
      "metadata": {
        "id": "96bd8c3b-1d97-4377-b639-4e1eac13dd82",
        "colab": {
          "base_uri": "https://localhost:8080/"
        },
        "outputId": "212499bd-bb4c-491d-a1d5-568496ab5f6f"
      },
      "outputs": [
        {
          "output_type": "execute_result",
          "data": {
            "text/plain": [
              "array([ 6, 22, 19,  7, 12,  8, 21])"
            ]
          },
          "metadata": {},
          "execution_count": 73
        }
      ],
      "source": [
        "np.array([ 6, 22, 19,  7, 12,  8, 21])"
      ]
    },
    {
      "cell_type": "code",
      "execution_count": null,
      "id": "89114153-aef9-4c69-b00a-2199f8ddad35",
      "metadata": {
        "id": "89114153-aef9-4c69-b00a-2199f8ddad35",
        "colab": {
          "base_uri": "https://localhost:8080/"
        },
        "outputId": "bef63646-24b5-43da-a41c-daa304f5d297"
      },
      "outputs": [
        {
          "output_type": "execute_result",
          "data": {
            "text/plain": [
              "array([16, 99, 20,  5])"
            ]
          },
          "metadata": {},
          "execution_count": 74
        }
      ],
      "source": [
        "# reverse travesal of array (starting from 4th element)\n",
        "integers[3::-1]"
      ]
    },
    {
      "cell_type": "code",
      "execution_count": null,
      "id": "0b873f5a-10aa-4e7b-9c7e-a122493e4486",
      "metadata": {
        "id": "0b873f5a-10aa-4e7b-9c7e-a122493e4486",
        "colab": {
          "base_uri": "https://localhost:8080/"
        },
        "outputId": "748e92b3-9887-4fb4-fadd-83d0d5ecccc0"
      },
      "outputs": [
        {
          "output_type": "execute_result",
          "data": {
            "text/plain": [
              "array([ 6, 99,  4,  0])"
            ]
          },
          "metadata": {},
          "execution_count": 75
        }
      ],
      "source": [
        "np.array([ 6, 99,  4,  0])"
      ]
    },
    {
      "cell_type": "markdown",
      "id": "e4a9fc75-5555-4bed-bf06-2745ffb301b5",
      "metadata": {
        "id": "e4a9fc75-5555-4bed-bf06-2745ffb301b5"
      },
      "source": [
        "Array slices are mutable: if they are assigned a new value the original array from which the slice was extracted is modified:"
      ]
    },
    {
      "cell_type": "code",
      "execution_count": null,
      "id": "9e2d0e91-e975-4ce1-ac46-7a547fcb603a",
      "metadata": {
        "id": "9e2d0e91-e975-4ce1-ac46-7a547fcb603a",
        "colab": {
          "base_uri": "https://localhost:8080/"
        },
        "outputId": "38869a3c-a486-483b-9dbe-d1b5296662a4"
      },
      "outputs": [
        {
          "output_type": "execute_result",
          "data": {
            "text/plain": [
              "array([ 5, 20, 99, 16,  5,  4,  9,  8,  1, 22])"
            ]
          },
          "metadata": {},
          "execution_count": 76
        }
      ],
      "source": [
        "integers"
      ]
    },
    {
      "cell_type": "code",
      "execution_count": null,
      "id": "253123b1-7ee5-4086-8992-aefd666190e1",
      "metadata": {
        "id": "253123b1-7ee5-4086-8992-aefd666190e1",
        "colab": {
          "base_uri": "https://localhost:8080/"
        },
        "outputId": "6690ddb5-e888-428b-fcc3-cf23fd3645bf"
      },
      "outputs": [
        {
          "output_type": "execute_result",
          "data": {
            "text/plain": [
              "array([ 0,  4, 99,  6, 22, 19,  7, 12,  8, 21])"
            ]
          },
          "metadata": {},
          "execution_count": 77
        }
      ],
      "source": [
        "np.array([ 0,  4, 99,  6, 22, 19,  7, 12,  8, 21])"
      ]
    },
    {
      "cell_type": "code",
      "execution_count": null,
      "id": "744ea888-8995-40a3-ae47-0da7198fae40",
      "metadata": {
        "id": "744ea888-8995-40a3-ae47-0da7198fae40",
        "colab": {
          "base_uri": "https://localhost:8080/"
        },
        "outputId": "c11ff0e4-d3bf-47dc-bbc0-91d768bbc60c"
      },
      "outputs": [
        {
          "output_type": "execute_result",
          "data": {
            "text/plain": [
              "array([  5,  20,  99,  16,   5,   4,   9,   8, -23, -46])"
            ]
          },
          "metadata": {},
          "execution_count": 78
        }
      ],
      "source": [
        "# assign new values to the last two elements\n",
        "integers[-2:] = [-23, -46]\n",
        "\n",
        "integers"
      ]
    },
    {
      "cell_type": "markdown",
      "id": "3f8e2dd0-7f62-4b93-9c5d-b4e212055947",
      "metadata": {
        "id": "3f8e2dd0-7f62-4b93-9c5d-b4e212055947"
      },
      "source": [
        "## nD arrays"
      ]
    },
    {
      "cell_type": "code",
      "execution_count": null,
      "id": "8ff46e47-2375-4848-a0c7-651833fe62a4",
      "metadata": {
        "id": "8ff46e47-2375-4848-a0c7-651833fe62a4",
        "colab": {
          "base_uri": "https://localhost:8080/"
        },
        "outputId": "c8ed0bc1-44e3-4ccf-e778-c4b4e3aa655d"
      },
      "outputs": [
        {
          "output_type": "execute_result",
          "data": {
            "text/plain": [
              "array([[ 0,  1,  2,  3,  4],\n",
              "       [ 5,  6,  7,  8,  9],\n",
              "       [10, 11, 12, 13, 14],\n",
              "       [15, 16, 17, 18, 19]])"
            ]
          },
          "metadata": {},
          "execution_count": 79
        }
      ],
      "source": [
        "# a 2D array\n",
        "twenty = (np.arange(4 * 5)).reshape(4, 5)\n",
        "twenty"
      ]
    },
    {
      "cell_type": "code",
      "execution_count": null,
      "id": "2d01561d-b18f-4f3a-8a7f-cd9a7baa1c1b",
      "metadata": {
        "id": "2d01561d-b18f-4f3a-8a7f-cd9a7baa1c1b",
        "colab": {
          "base_uri": "https://localhost:8080/"
        },
        "outputId": "9d436afd-68f0-4af9-a769-bb8846a21ef0"
      },
      "outputs": [
        {
          "output_type": "execute_result",
          "data": {
            "text/plain": [
              "array([[0, 1, 2],\n",
              "       [5, 6, 7]])"
            ]
          },
          "metadata": {},
          "execution_count": 80
        }
      ],
      "source": [
        "# slice first 2 rows and 3 columns\n",
        "twenty[:2, :3]"
      ]
    },
    {
      "cell_type": "code",
      "execution_count": null,
      "id": "31d9bcd0-5a21-4d65-9c11-c9f579f299c5",
      "metadata": {
        "id": "31d9bcd0-5a21-4d65-9c11-c9f579f299c5",
        "colab": {
          "base_uri": "https://localhost:8080/"
        },
        "outputId": "dffa91ed-e915-4f5c-ffa4-1513e034e3c6"
      },
      "outputs": [
        {
          "output_type": "execute_result",
          "data": {
            "text/plain": [
              "array([[ 0,  4],\n",
              "       [15, 19]])"
            ]
          },
          "metadata": {},
          "execution_count": 81
        }
      ],
      "source": [
        "# slice and get only the corner elements\n",
        "# three \"jumps\" along dimension 0\n",
        "# four \"jumps\" along dimension 1\n",
        "twenty[::3, ::4]"
      ]
    },
    {
      "cell_type": "code",
      "execution_count": null,
      "id": "01b774c7-91a5-473e-afad-68f64f189aba",
      "metadata": {
        "id": "01b774c7-91a5-473e-afad-68f64f189aba",
        "colab": {
          "base_uri": "https://localhost:8080/"
        },
        "outputId": "92a970b3-72b1-47a6-d406-5c12b83a3c0d"
      },
      "outputs": [
        {
          "output_type": "execute_result",
          "data": {
            "text/plain": [
              "array([[15, 16, 17, 18, 19],\n",
              "       [10, 11, 12, 13, 14],\n",
              "       [ 5,  6,  7,  8,  9],\n",
              "       [ 0,  1,  2,  3,  4]])"
            ]
          },
          "metadata": {},
          "execution_count": 82
        }
      ],
      "source": [
        "# reversing the order of elements along columns (i.e. along dimension 0)\n",
        "twenty[::-1, ...]"
      ]
    },
    {
      "cell_type": "code",
      "execution_count": null,
      "id": "f8b71dbd-bc99-4e63-9b84-fdc655ad1003",
      "metadata": {
        "id": "f8b71dbd-bc99-4e63-9b84-fdc655ad1003",
        "colab": {
          "base_uri": "https://localhost:8080/"
        },
        "outputId": "68874dee-0586-4686-9672-8baaf8de4a69"
      },
      "outputs": [
        {
          "output_type": "execute_result",
          "data": {
            "text/plain": [
              "array([[15, 16, 17, 18, 19],\n",
              "       [10, 11, 12, 13, 14],\n",
              "       [ 5,  6,  7,  8,  9],\n",
              "       [ 0,  1,  2,  3,  4]])"
            ]
          },
          "metadata": {},
          "execution_count": 83
        }
      ],
      "source": [
        "np.array([[15, 16, 17, 18, 19],\n",
        "       [10, 11, 12, 13, 14],\n",
        "       [ 5,  6,  7,  8,  9],\n",
        "       [ 0,  1,  2,  3,  4]])"
      ]
    },
    {
      "cell_type": "code",
      "execution_count": null,
      "id": "759820f7-d9ec-4485-a87d-90f3931d22ad",
      "metadata": {
        "id": "759820f7-d9ec-4485-a87d-90f3931d22ad",
        "colab": {
          "base_uri": "https://localhost:8080/"
        },
        "outputId": "e48ff6f7-3274-458f-c434-d7926a869e4d"
      },
      "outputs": [
        {
          "output_type": "execute_result",
          "data": {
            "text/plain": [
              "array([[ 4,  3,  2,  1,  0],\n",
              "       [ 9,  8,  7,  6,  5],\n",
              "       [14, 13, 12, 11, 10],\n",
              "       [19, 18, 17, 16, 15]])"
            ]
          },
          "metadata": {},
          "execution_count": 84
        }
      ],
      "source": [
        "# reversing the order of elements along rows (i.e. along dimension 1)\n",
        "twenty[..., ::-1]"
      ]
    },
    {
      "cell_type": "code",
      "execution_count": null,
      "id": "7788c07a-cd2b-4328-89b5-ff2335c9a75b",
      "metadata": {
        "id": "7788c07a-cd2b-4328-89b5-ff2335c9a75b",
        "colab": {
          "base_uri": "https://localhost:8080/"
        },
        "outputId": "f9771881-a997-44ed-85c7-10916785ee46"
      },
      "outputs": [
        {
          "output_type": "execute_result",
          "data": {
            "text/plain": [
              "array([[19, 18, 17, 16, 15],\n",
              "       [14, 13, 12, 11, 10],\n",
              "       [ 9,  8,  7,  6,  5],\n",
              "       [ 4,  3,  2,  1,  0]])"
            ]
          },
          "metadata": {},
          "execution_count": 85
        }
      ],
      "source": [
        "# reversing the rows and columns (i.e. along both dimensions)\n",
        "twenty[::-1, ::-1]"
      ]
    },
    {
      "cell_type": "code",
      "execution_count": null,
      "id": "d11365d6-ecc3-4243-83e9-87b9b6cfea95",
      "metadata": {
        "id": "d11365d6-ecc3-4243-83e9-87b9b6cfea95",
        "colab": {
          "base_uri": "https://localhost:8080/"
        },
        "outputId": "b6bd09c8-edbb-4b8a-e939-717fa68e4c38"
      },
      "outputs": [
        {
          "output_type": "execute_result",
          "data": {
            "text/plain": [
              "array([[19, 18, 17, 16, 15],\n",
              "       [14, 13, 12, 11, 10],\n",
              "       [ 9,  8,  7,  6,  5],\n",
              "       [ 4,  3,  2,  1,  0]])"
            ]
          },
          "metadata": {},
          "execution_count": 86
        }
      ],
      "source": [
        "# or more intuitively\n",
        "np.flip(twenty, axis=(0, 1))\n",
        "\n",
        "# or equivalently\n",
        "np.flipud(np.fliplr(twenty))\n",
        "np.fliplr(np.flipud(twenty))"
      ]
    },
    {
      "cell_type": "markdown",
      "id": "eb9780a9-61cb-4dcd-ac68-e4accdbbc696",
      "metadata": {
        "id": "eb9780a9-61cb-4dcd-ac68-e4accdbbc696"
      },
      "source": [
        "## Fancy indexing\n",
        "\n",
        "Fancy indexing is the name for when an array or a list is used in-place of an index:"
      ]
    },
    {
      "cell_type": "code",
      "execution_count": null,
      "id": "6708517a-c641-4ea0-abf1-87aacc5dff08",
      "metadata": {
        "id": "6708517a-c641-4ea0-abf1-87aacc5dff08",
        "colab": {
          "base_uri": "https://localhost:8080/"
        },
        "outputId": "a0bfe381-cecc-4829-ab55-3a5f27f9bfaf"
      },
      "outputs": [
        {
          "output_type": "execute_result",
          "data": {
            "text/plain": [
              "array([[ 0,  1,  2,  3,  4],\n",
              "       [ 5,  6,  7,  8,  9],\n",
              "       [10, 11, 12, 13, 14],\n",
              "       [15, 16, 17, 18, 19]])"
            ]
          },
          "metadata": {},
          "execution_count": 87
        }
      ],
      "source": [
        "# a 2D array\n",
        "twenty"
      ]
    },
    {
      "cell_type": "code",
      "execution_count": null,
      "id": "ccf90168-5fff-44ed-884b-ae53dc09e8cb",
      "metadata": {
        "colab": {
          "base_uri": "https://localhost:8080/"
        },
        "id": "ccf90168-5fff-44ed-884b-ae53dc09e8cb",
        "outputId": "d675392f-1644-44a6-bb1a-f3b460e3712d"
      },
      "outputs": [
        {
          "output_type": "execute_result",
          "data": {
            "text/plain": [
              "array([[ 5,  6,  7,  8,  9],\n",
              "       [10, 11, 12, 13, 14],\n",
              "       [15, 16, 17, 18, 19]])"
            ]
          },
          "metadata": {},
          "execution_count": 88
        }
      ],
      "source": [
        "# get 2nd, 3rd, and 4th rows\n",
        "row_indices = [1, 2, 3]\n",
        "twenty[row_indices]"
      ]
    },
    {
      "cell_type": "code",
      "execution_count": null,
      "id": "0577c090-3cda-4b6e-82fe-390d9697a61a",
      "metadata": {
        "id": "0577c090-3cda-4b6e-82fe-390d9697a61a",
        "colab": {
          "base_uri": "https://localhost:8080/"
        },
        "outputId": "c2b109e9-3a32-4ebe-c198-23fb169ad807"
      },
      "outputs": [
        {
          "output_type": "execute_result",
          "data": {
            "text/plain": [
              "array([ 6, 12, 19])"
            ]
          },
          "metadata": {},
          "execution_count": 89
        }
      ],
      "source": [
        "col_indices = [1, 2, -1] # remember, index -1 means the last element\n",
        "twenty[row_indices, col_indices]"
      ]
    },
    {
      "cell_type": "markdown",
      "id": "2a6e8bb1-e9ea-4ceb-ab7a-03b337920bdf",
      "metadata": {
        "id": "2a6e8bb1-e9ea-4ceb-ab7a-03b337920bdf"
      },
      "source": [
        "We can also use index masks: If the index mask is a NumPy array of data type bool, then an element is selected (True) or not (False) depending on the value of the index mask at the position of each element"
      ]
    },
    {
      "cell_type": "code",
      "execution_count": null,
      "id": "1f86736a-f02f-419e-a205-0431b97de9a4",
      "metadata": {
        "id": "1f86736a-f02f-419e-a205-0431b97de9a4",
        "colab": {
          "base_uri": "https://localhost:8080/"
        },
        "outputId": "76e63fd8-2633-4a8f-e986-94a1b1843a49"
      },
      "outputs": [
        {
          "output_type": "execute_result",
          "data": {
            "text/plain": [
              "array([  5,  20,  99,  16,   5,   4,   9,   8, -23, -46])"
            ]
          },
          "metadata": {},
          "execution_count": 90
        }
      ],
      "source": [
        "# 1D array\n",
        "integers"
      ]
    },
    {
      "cell_type": "code",
      "execution_count": null,
      "id": "7b233f6f-ef6a-4212-b760-97ae6dc82049",
      "metadata": {
        "id": "7b233f6f-ef6a-4212-b760-97ae6dc82049",
        "colab": {
          "base_uri": "https://localhost:8080/"
        },
        "outputId": "e3c79eb8-b632-42f7-eb24-bbf625cea3d5"
      },
      "outputs": [
        {
          "output_type": "execute_result",
          "data": {
            "text/plain": [
              "array([  5,  99,   5,   9, -23])"
            ]
          },
          "metadata": {},
          "execution_count": 91
        }
      ],
      "source": [
        "# mask has to be of the same shape as the array to be indexed; else IndexError would be thrown\n",
        "# mask for indexing alternate elements in the array\n",
        "row_mask = np.array([True, False, True, False, True, False, True, False, True, False])\n",
        "\n",
        "integers[row_mask]"
      ]
    },
    {
      "cell_type": "code",
      "execution_count": null,
      "id": "e29269d4-e7dd-40d3-af9a-7da3022b7eac",
      "metadata": {
        "id": "e29269d4-e7dd-40d3-af9a-7da3022b7eac",
        "colab": {
          "base_uri": "https://localhost:8080/"
        },
        "outputId": "ef6423f4-65b1-49a6-aa7b-738c1c8de104"
      },
      "outputs": [
        {
          "output_type": "execute_result",
          "data": {
            "text/plain": [
              "array([  5,  99,   5,   9, -23])"
            ]
          },
          "metadata": {},
          "execution_count": 92
        }
      ],
      "source": [
        "# alternatively\n",
        "row_mask = np.array([1, 0, 1, 0, 1, 0, 1, 0, 1, 0], dtype=np.bool_)\n",
        "\n",
        "integers[row_mask]"
      ]
    },
    {
      "cell_type": "markdown",
      "id": "65793840-dd11-4dc5-9a67-b6ee9f56c0b6",
      "metadata": {
        "id": "65793840-dd11-4dc5-9a67-b6ee9f56c0b6"
      },
      "source": [
        "This feature is very useful to conditionally select elements from an array, using for example comparison operators:"
      ]
    },
    {
      "cell_type": "code",
      "execution_count": null,
      "id": "b7140829-a922-4abe-9f18-4fcebfadf808",
      "metadata": {
        "id": "b7140829-a922-4abe-9f18-4fcebfadf808",
        "colab": {
          "base_uri": "https://localhost:8080/"
        },
        "outputId": "06fa18f4-b1a0-4860-f313-7bcbab856ac9"
      },
      "outputs": [
        {
          "output_type": "execute_result",
          "data": {
            "text/plain": [
              "array([  0,  99,  22,   7, -23])"
            ]
          },
          "metadata": {},
          "execution_count": 93
        }
      ],
      "source": [
        "np.array([  0,  99,  22,   7, -23])"
      ]
    },
    {
      "cell_type": "code",
      "execution_count": null,
      "id": "65b4cd4f-c7d6-42be-9479-1634dc554271",
      "metadata": {
        "id": "65b4cd4f-c7d6-42be-9479-1634dc554271",
        "colab": {
          "base_uri": "https://localhost:8080/"
        },
        "outputId": "13725183-3759-4f8d-8f98-a1bde13e35f4"
      },
      "outputs": [
        {
          "output_type": "execute_result",
          "data": {
            "text/plain": [
              "array([0. , 0.5, 1. , 1.5, 2. , 2.5, 3. , 3.5, 4. , 4.5, 5. , 5.5, 6. ,\n",
              "       6.5, 7. , 7.5, 8. , 8.5, 9. , 9.5])"
            ]
          },
          "metadata": {},
          "execution_count": 94
        }
      ],
      "source": [
        "range_arr = np.arange(0, 10, 0.5)\n",
        "range_arr"
      ]
    },
    {
      "cell_type": "code",
      "execution_count": null,
      "id": "87969165-0b4c-4888-9154-606390990fbe",
      "metadata": {
        "id": "87969165-0b4c-4888-9154-606390990fbe",
        "colab": {
          "base_uri": "https://localhost:8080/"
        },
        "outputId": "ab9659ba-f55f-47bf-e88f-db6781483733"
      },
      "outputs": [
        {
          "output_type": "execute_result",
          "data": {
            "text/plain": [
              "array([0. , 0.5, 1. , 1.5, 2. , 2.5, 3. , 3.5, 4. , 4.5, 5. , 5.5, 6. ,\n",
              "       6.5, 7. , 7.5, 8. , 8.5, 9. , 9.5])"
            ]
          },
          "metadata": {},
          "execution_count": 95
        }
      ],
      "source": [
        "np.array([0. , 0.5, 1. , 1.5, 2. , 2.5, 3. , 3.5, 4. , 4.5, 5. , 5.5, 6. ,\n",
        "       6.5, 7. , 7.5, 8. , 8.5, 9. , 9.5])"
      ]
    },
    {
      "cell_type": "code",
      "execution_count": null,
      "id": "6d65f331-71c6-4094-bf72-a966fb48de97",
      "metadata": {
        "id": "6d65f331-71c6-4094-bf72-a966fb48de97",
        "colab": {
          "base_uri": "https://localhost:8080/"
        },
        "outputId": "0f66b2cc-1ad4-4f41-cbf0-3083ecbb150f"
      },
      "outputs": [
        {
          "output_type": "execute_result",
          "data": {
            "text/plain": [
              "array([False, False, False, False, False, False, False, False, False,\n",
              "       False, False,  True,  True,  True,  True, False, False, False,\n",
              "       False, False])"
            ]
          },
          "metadata": {},
          "execution_count": 96
        }
      ],
      "source": [
        "mask = (range_arr > 5) * (range_arr < 7.5)\n",
        "mask"
      ]
    },
    {
      "cell_type": "code",
      "execution_count": null,
      "id": "6b0db422-a388-418c-9850-030c1645f447",
      "metadata": {
        "id": "6b0db422-a388-418c-9850-030c1645f447",
        "colab": {
          "base_uri": "https://localhost:8080/"
        },
        "outputId": "b6fb13e1-f7b5-414a-b3a2-26ef3c9f0ea4"
      },
      "outputs": [
        {
          "output_type": "execute_result",
          "data": {
            "text/plain": [
              "array([False, False, False, False, False, False, False, False, False,\n",
              "       False, False,  True,  True,  True,  True, False, False, False,\n",
              "       False, False])"
            ]
          },
          "metadata": {},
          "execution_count": 97
        }
      ],
      "source": [
        "np.array([False, False, False, False, False, False, False, False, False,\n",
        "       False, False,  True,  True,  True,  True, False, False, False,\n",
        "       False, False])"
      ]
    },
    {
      "cell_type": "code",
      "execution_count": null,
      "id": "6e558db6-571f-4ac5-ac62-4d2658f74964",
      "metadata": {
        "id": "6e558db6-571f-4ac5-ac62-4d2658f74964",
        "colab": {
          "base_uri": "https://localhost:8080/"
        },
        "outputId": "4bebbc22-79bf-458b-87c0-73cf6ef3792c"
      },
      "outputs": [
        {
          "output_type": "execute_result",
          "data": {
            "text/plain": [
              "array([5.5, 6. , 6.5, 7. ])"
            ]
          },
          "metadata": {},
          "execution_count": 98
        }
      ],
      "source": [
        "range_arr[mask]"
      ]
    },
    {
      "cell_type": "code",
      "execution_count": null,
      "id": "b08e35ce-72d2-475a-9b1c-b6d1ccd3a5ef",
      "metadata": {
        "id": "b08e35ce-72d2-475a-9b1c-b6d1ccd3a5ef",
        "colab": {
          "base_uri": "https://localhost:8080/"
        },
        "outputId": "b9bba71a-f3af-45cc-9c8c-f69d7fd4d447"
      },
      "outputs": [
        {
          "output_type": "execute_result",
          "data": {
            "text/plain": [
              "array([5.5, 6. , 6.5, 7. ])"
            ]
          },
          "metadata": {},
          "execution_count": 99
        }
      ],
      "source": [
        "np.array([5.5, 6. , 6.5, 7. ])"
      ]
    },
    {
      "cell_type": "code",
      "execution_count": null,
      "id": "c07b18e2-6c36-498f-b635-f9d85b5e7eb4",
      "metadata": {
        "id": "c07b18e2-6c36-498f-b635-f9d85b5e7eb4",
        "colab": {
          "base_uri": "https://localhost:8080/"
        },
        "outputId": "8a2b7aa5-c75e-45fb-b5e2-e511290897c5"
      },
      "outputs": [
        {
          "output_type": "execute_result",
          "data": {
            "text/plain": [
              "array([5.5, 6. , 6.5, 7. ])"
            ]
          },
          "metadata": {},
          "execution_count": 100
        }
      ],
      "source": [
        "# or equivalently\n",
        "\n",
        "mask = (5 < range_arr) & (range_arr < 7.5)\n",
        "range_arr[mask]"
      ]
    },
    {
      "cell_type": "code",
      "execution_count": null,
      "id": "e5760e18-ba5a-427e-9931-866d2a54c958",
      "metadata": {
        "id": "e5760e18-ba5a-427e-9931-866d2a54c958",
        "colab": {
          "base_uri": "https://localhost:8080/"
        },
        "outputId": "6f72a773-f3f8-4772-eff0-64fb07ef108e"
      },
      "outputs": [
        {
          "output_type": "execute_result",
          "data": {
            "text/plain": [
              "array([5.5, 6. , 6.5, 7. ])"
            ]
          },
          "metadata": {},
          "execution_count": 101
        }
      ],
      "source": [
        "np.array([5.5, 6. , 6.5, 7. ])"
      ]
    },
    {
      "cell_type": "markdown",
      "id": "bcd05417-278a-4148-89a2-1e4b084bf4f2",
      "metadata": {
        "id": "bcd05417-278a-4148-89a2-1e4b084bf4f2"
      },
      "source": [
        "## Linear operations\n",
        "\n",
        "Vectorizing the code is key to writing efficient numerical calculation with Python/NumPy. This means that, as much as possible, a program should be formulated in terms of matrix and vector operations, like matrix-matrix multiplication."
      ]
    },
    {
      "cell_type": "markdown",
      "id": "4225e089-b71b-4454-be04-a75bc9b4fe91",
      "metadata": {
        "id": "4225e089-b71b-4454-be04-a75bc9b4fe91"
      },
      "source": [
        "### Scalar-array operations\n",
        "\n",
        "We can use the usual arithmetic operators to multiply, add, subtract, and divide arrays with scalar numbers."
      ]
    },
    {
      "cell_type": "code",
      "execution_count": null,
      "id": "5a1cf6d8-fa9f-488a-9f47-c6d1b7eec8ba",
      "metadata": {
        "id": "5a1cf6d8-fa9f-488a-9f47-c6d1b7eec8ba",
        "colab": {
          "base_uri": "https://localhost:8080/"
        },
        "outputId": "275145b0-d037-431c-916e-a57caa207ba3"
      },
      "outputs": [
        {
          "output_type": "execute_result",
          "data": {
            "text/plain": [
              "array([0, 1, 2, 3, 4])"
            ]
          },
          "metadata": {},
          "execution_count": 102
        }
      ],
      "source": [
        "vec = np.arange(0, 5)\n",
        "\n",
        "vec"
      ]
    },
    {
      "cell_type": "code",
      "execution_count": null,
      "id": "8df95ddf-08db-4434-af3d-c24150a65a6a",
      "metadata": {
        "id": "8df95ddf-08db-4434-af3d-c24150a65a6a",
        "colab": {
          "base_uri": "https://localhost:8080/"
        },
        "outputId": "6c95f032-1b55-4e21-f949-fec149683f2b"
      },
      "outputs": [
        {
          "output_type": "execute_result",
          "data": {
            "text/plain": [
              "array([0, 1, 2, 3, 4])"
            ]
          },
          "metadata": {},
          "execution_count": 103
        }
      ],
      "source": [
        "np.array([0, 1, 2, 3, 4])"
      ]
    },
    {
      "cell_type": "code",
      "execution_count": null,
      "id": "4d68a4a1-6fc9-4d93-9a37-ffcdd0f70c19",
      "metadata": {
        "id": "4d68a4a1-6fc9-4d93-9a37-ffcdd0f70c19",
        "colab": {
          "base_uri": "https://localhost:8080/"
        },
        "outputId": "8980d5a4-8106-46cc-c645-eef242a5470c"
      },
      "outputs": [
        {
          "output_type": "execute_result",
          "data": {
            "text/plain": [
              "array([0, 2, 4, 6, 8])"
            ]
          },
          "metadata": {},
          "execution_count": 104
        }
      ],
      "source": [
        "# note that original `vec` still remains unaffected since we haven't assigned the new array to it.\n",
        "vec * 2"
      ]
    },
    {
      "cell_type": "code",
      "execution_count": null,
      "id": "3a68a3c6-527c-4d46-b93b-109479239d4b",
      "metadata": {
        "id": "3a68a3c6-527c-4d46-b93b-109479239d4b",
        "colab": {
          "base_uri": "https://localhost:8080/"
        },
        "outputId": "e64abdac-0267-4737-89bc-f84a9dfdf58f"
      },
      "outputs": [
        {
          "output_type": "execute_result",
          "data": {
            "text/plain": [
              "array([2, 3, 4, 5, 6])"
            ]
          },
          "metadata": {},
          "execution_count": 105
        }
      ],
      "source": [
        "vec + 2"
      ]
    },
    {
      "cell_type": "markdown",
      "id": "de4b252b-c9ce-47d0-a1aa-0a96a82de110",
      "metadata": {
        "id": "de4b252b-c9ce-47d0-a1aa-0a96a82de110"
      },
      "source": [
        "### Element-wise array-array operations\n",
        "\n",
        "When we add, subtract, multiply, and divide arrays with each other, the default behaviour is element-wise operations:"
      ]
    },
    {
      "cell_type": "code",
      "execution_count": null,
      "id": "cfdc5bf9-ee1e-41da-a426-f40b6af8de74",
      "metadata": {
        "id": "cfdc5bf9-ee1e-41da-a426-f40b6af8de74",
        "colab": {
          "base_uri": "https://localhost:8080/"
        },
        "outputId": "ef9b8f22-9380-4c00-8934-7367e9a7a383"
      },
      "outputs": [
        {
          "output_type": "execute_result",
          "data": {
            "text/plain": [
              "array([[ 0,  1,  2,  3,  4],\n",
              "       [ 5,  6,  7,  8,  9],\n",
              "       [10, 11, 12, 13, 14],\n",
              "       [15, 16, 17, 18, 19]])"
            ]
          },
          "metadata": {},
          "execution_count": 106
        }
      ],
      "source": [
        "arr = np.arange(4 * 5).reshape(4, 5)\n",
        "arr"
      ]
    },
    {
      "cell_type": "code",
      "execution_count": null,
      "id": "0425dbac-06a6-4259-9605-179037eceb47",
      "metadata": {
        "id": "0425dbac-06a6-4259-9605-179037eceb47",
        "colab": {
          "base_uri": "https://localhost:8080/"
        },
        "outputId": "aea5c7a0-5cf8-451c-f65d-9da9473474f1"
      },
      "outputs": [
        {
          "output_type": "execute_result",
          "data": {
            "text/plain": [
              "array([[  30,   80,  130,  180],\n",
              "       [  80,  255,  430,  605],\n",
              "       [ 130,  430,  730, 1030],\n",
              "       [ 180,  605, 1030, 1455]])"
            ]
          },
          "metadata": {},
          "execution_count": 107
        }
      ],
      "source": [
        "np.matmul(arr, (arr.T))\n"
      ]
    },
    {
      "cell_type": "code",
      "execution_count": null,
      "id": "39224c34-e0ba-4b68-95ce-c06304b5d765",
      "metadata": {
        "id": "39224c34-e0ba-4b68-95ce-c06304b5d765",
        "colab": {
          "base_uri": "https://localhost:8080/"
        },
        "outputId": "1d33ce35-85fa-4bbf-94bc-0c14c7cebde8"
      },
      "outputs": [
        {
          "output_type": "stream",
          "name": "stdout",
          "text": [
            "(5,) (4, 5)\n"
          ]
        },
        {
          "output_type": "execute_result",
          "data": {
            "text/plain": [
              "array([[ 0,  1,  4,  9, 16],\n",
              "       [ 0,  6, 14, 24, 36],\n",
              "       [ 0, 11, 24, 39, 56],\n",
              "       [ 0, 16, 34, 54, 76]])"
            ]
          },
          "metadata": {},
          "execution_count": 108
        }
      ],
      "source": [
        "print(vec.shape, arr.shape)\n",
        "\n",
        "# shape has to match\n",
        "vec * arr"
      ]
    },
    {
      "cell_type": "code",
      "execution_count": null,
      "id": "3154e310-e6c4-48d6-9a0f-029288c2b3fd",
      "metadata": {
        "id": "3154e310-e6c4-48d6-9a0f-029288c2b3fd"
      },
      "outputs": [],
      "source": [
        "# else no broadcasting will happen and an error is thrown\n",
        "#print(vec[:, None].shape)\n",
        "\n",
        "#vec[:, None] * arr"
      ]
    },
    {
      "cell_type": "code",
      "execution_count": null,
      "id": "5baa78d0-bb47-449f-b878-8d90996b05a0",
      "metadata": {
        "id": "5baa78d0-bb47-449f-b878-8d90996b05a0",
        "colab": {
          "base_uri": "https://localhost:8080/"
        },
        "outputId": "bd2e5718-79e1-43dc-82b1-4bec8a1b8860"
      },
      "outputs": [
        {
          "output_type": "execute_result",
          "data": {
            "text/plain": [
              "array([[ 0,  0,  0,  0,  0],\n",
              "       [ 5,  6,  7,  8,  9],\n",
              "       [20, 22, 24, 26, 28],\n",
              "       [45, 48, 51, 54, 57]])"
            ]
          },
          "metadata": {},
          "execution_count": 110
        }
      ],
      "source": [
        "# however, this would work\n",
        "vec[:4, None] * arr"
      ]
    },
    {
      "cell_type": "code",
      "execution_count": null,
      "id": "c54a6323-c9c3-4885-8a66-4bd7519c95ed",
      "metadata": {
        "id": "c54a6323-c9c3-4885-8a66-4bd7519c95ed",
        "colab": {
          "base_uri": "https://localhost:8080/"
        },
        "outputId": "5a0fbd51-024b-40b5-90bd-d7ebf1554898"
      },
      "outputs": [
        {
          "output_type": "execute_result",
          "data": {
            "text/plain": [
              "array([[ 0,  0,  0,  0,  0],\n",
              "       [ 5,  6,  7,  8,  9],\n",
              "       [20, 22, 24, 26, 28],\n",
              "       [45, 48, 51, 54, 57]])"
            ]
          },
          "metadata": {},
          "execution_count": 111
        }
      ],
      "source": [
        "np.array([[ 0,  0,  0,  0,  0],\n",
        "       [ 5,  6,  7,  8,  9],\n",
        "       [20, 22, 24, 26, 28],\n",
        "       [45, 48, 51, 54, 57]])"
      ]
    },
    {
      "cell_type": "markdown",
      "id": "6968b026-d85d-4bba-99e0-c11b2176d6fc",
      "metadata": {
        "id": "6968b026-d85d-4bba-99e0-c11b2176d6fc"
      },
      "source": [
        "## Matrix operations\n",
        "\n",
        "What about the glorified matrix mutiplication? There are two ways. We can either use the dot function, which applies a matrix-matrix, matrix-vector, or inner vector multiplication to its two arguments. Or you can use the @ operator in Python 3"
      ]
    },
    {
      "cell_type": "code",
      "execution_count": null,
      "id": "fddc0730-bef5-4e9a-9575-be40db32f0e3",
      "metadata": {
        "id": "fddc0730-bef5-4e9a-9575-be40db32f0e3",
        "colab": {
          "base_uri": "https://localhost:8080/"
        },
        "outputId": "67d08725-e447-4f30-82c9-b16ab81cbe1b"
      },
      "outputs": [
        {
          "output_type": "stream",
          "name": "stdout",
          "text": [
            "(5, 4) (4, 5)\n"
          ]
        },
        {
          "output_type": "execute_result",
          "data": {
            "text/plain": [
              "array([[350, 380, 410, 440, 470],\n",
              "       [380, 414, 448, 482, 516],\n",
              "       [410, 448, 486, 524, 562],\n",
              "       [440, 482, 524, 566, 608],\n",
              "       [470, 516, 562, 608, 654]])"
            ]
          },
          "metadata": {},
          "execution_count": 112
        }
      ],
      "source": [
        "# matrix-matrix product\n",
        "print(arr.T.shape, arr.shape)\n",
        "np.dot(arr.T, arr)"
      ]
    },
    {
      "cell_type": "code",
      "execution_count": null,
      "id": "d4e98dcb-0866-4973-b108-a2aff2952156",
      "metadata": {
        "id": "d4e98dcb-0866-4973-b108-a2aff2952156",
        "colab": {
          "base_uri": "https://localhost:8080/"
        },
        "outputId": "4aa79ee2-f225-4897-fd08-d5250027dd8f"
      },
      "outputs": [
        {
          "output_type": "stream",
          "name": "stdout",
          "text": [
            "shapes:  (4, 5) (5,)\n"
          ]
        },
        {
          "output_type": "execute_result",
          "data": {
            "text/plain": [
              "array([ 30,  80, 130, 180])"
            ]
          },
          "metadata": {},
          "execution_count": 113
        }
      ],
      "source": [
        "# matrix-vector product\n",
        "print(\"shapes: \", arr.shape, vec.shape)\n",
        "np.dot(arr, vec)   # but not this: np.dot(vec, arr)"
      ]
    },
    {
      "cell_type": "code",
      "execution_count": null,
      "id": "b8051b65-04e3-4025-8eeb-65a73d2e294b",
      "metadata": {
        "id": "b8051b65-04e3-4025-8eeb-65a73d2e294b",
        "colab": {
          "base_uri": "https://localhost:8080/"
        },
        "outputId": "b15ca562-749c-475f-ec2f-db4da0e14b90"
      },
      "outputs": [
        {
          "output_type": "stream",
          "name": "stdout",
          "text": [
            "shapes:  (1, 5) (5, 1)\n"
          ]
        },
        {
          "output_type": "execute_result",
          "data": {
            "text/plain": [
              "array([[30]])"
            ]
          },
          "metadata": {},
          "execution_count": 114
        }
      ],
      "source": [
        "col_vec = vec[:, None]\n",
        "print(\"shapes: \", (col_vec).T.shape, (col_vec).shape)\n",
        "\n",
        "# inner product\n",
        "(col_vec.T) @ (col_vec)"
      ]
    },
    {
      "cell_type": "markdown",
      "id": "1c8e8210-4329-4b9c-acd2-48c3b6534b9d",
      "metadata": {
        "id": "1c8e8210-4329-4b9c-acd2-48c3b6534b9d"
      },
      "source": [
        "### Stacking and repeating arrays\n",
        "\n",
        "Using function repeat, tile, vstack, hstack, and concatenate we can create larger vectors and matrices from smaller ones:"
      ]
    },
    {
      "cell_type": "code",
      "execution_count": null,
      "id": "39a30a15-bcd6-4a2d-8fd6-5ed20991f810",
      "metadata": {
        "id": "39a30a15-bcd6-4a2d-8fd6-5ed20991f810",
        "colab": {
          "base_uri": "https://localhost:8080/"
        },
        "outputId": "24a1f469-9717-45fd-927f-577fb4bef490"
      },
      "outputs": [
        {
          "output_type": "execute_result",
          "data": {
            "text/plain": [
              "array([[1, 2],\n",
              "       [3, 4]])"
            ]
          },
          "metadata": {},
          "execution_count": 115
        }
      ],
      "source": [
        "a = np.array([[1, 2], [3, 4]])\n",
        "a"
      ]
    },
    {
      "cell_type": "code",
      "execution_count": null,
      "id": "b186fca3-b02b-477d-9753-ede0b399dd75",
      "metadata": {
        "id": "b186fca3-b02b-477d-9753-ede0b399dd75",
        "colab": {
          "base_uri": "https://localhost:8080/"
        },
        "outputId": "178bbec2-42ac-44ab-abdb-39fab719b989"
      },
      "outputs": [
        {
          "output_type": "execute_result",
          "data": {
            "text/plain": [
              "array([1, 1, 1, 2, 2, 2, 3, 3, 3, 4, 4, 4])"
            ]
          },
          "metadata": {},
          "execution_count": 116
        }
      ],
      "source": [
        "# repeat each element 3 times\n",
        "np.repeat(a, 3)"
      ]
    },
    {
      "cell_type": "code",
      "execution_count": null,
      "id": "26c4db60-dce7-4bcd-a77d-df5cf4fea066",
      "metadata": {
        "id": "26c4db60-dce7-4bcd-a77d-df5cf4fea066",
        "colab": {
          "base_uri": "https://localhost:8080/"
        },
        "outputId": "7c110a32-be60-4b97-f2b7-3e967f146a72"
      },
      "outputs": [
        {
          "output_type": "execute_result",
          "data": {
            "text/plain": [
              "array([[1, 2, 1, 2, 1, 2],\n",
              "       [3, 4, 3, 4, 3, 4]])"
            ]
          },
          "metadata": {},
          "execution_count": 117
        }
      ],
      "source": [
        "# tile the matrix 3 times\n",
        "np.tile(a, 3)"
      ]
    },
    {
      "cell_type": "code",
      "execution_count": null,
      "id": "6b142069-7a58-42d3-b83c-0f15b6f41d22",
      "metadata": {
        "id": "6b142069-7a58-42d3-b83c-0f15b6f41d22",
        "colab": {
          "base_uri": "https://localhost:8080/"
        },
        "outputId": "2a97e263-4250-497c-8e6a-0c7055a8492f"
      },
      "outputs": [
        {
          "output_type": "execute_result",
          "data": {
            "text/plain": [
              "array([[5, 6]])"
            ]
          },
          "metadata": {},
          "execution_count": 118
        }
      ],
      "source": [
        "b = np.array([[5, 6]])\n",
        "b"
      ]
    },
    {
      "cell_type": "code",
      "execution_count": null,
      "id": "50eee1ab-e764-4f35-800d-21373d6ebd4e",
      "metadata": {
        "id": "50eee1ab-e764-4f35-800d-21373d6ebd4e",
        "colab": {
          "base_uri": "https://localhost:8080/"
        },
        "outputId": "76aa1388-6178-4822-8936-d183032cccba"
      },
      "outputs": [
        {
          "output_type": "execute_result",
          "data": {
            "text/plain": [
              "array([[1, 2],\n",
              "       [3, 4],\n",
              "       [5, 6]])"
            ]
          },
          "metadata": {},
          "execution_count": 119
        }
      ],
      "source": [
        "# concatenate a and b along axis 0\n",
        "np.concatenate((a, b), axis=0)"
      ]
    },
    {
      "cell_type": "code",
      "execution_count": null,
      "id": "fca9a6f6-f9a7-46c1-b82a-fa7be8a24385",
      "metadata": {
        "id": "fca9a6f6-f9a7-46c1-b82a-fa7be8a24385",
        "colab": {
          "base_uri": "https://localhost:8080/"
        },
        "outputId": "e2e114df-c07f-438c-e749-02bd36cc1e22"
      },
      "outputs": [
        {
          "output_type": "execute_result",
          "data": {
            "text/plain": [
              "array([[1, 2, 5],\n",
              "       [3, 4, 6]])"
            ]
          },
          "metadata": {},
          "execution_count": 120
        }
      ],
      "source": [
        "# concatenate a and b along axis 1\n",
        "np.concatenate((a, b.T), axis=1)"
      ]
    },
    {
      "cell_type": "markdown",
      "id": "cf26a6a4-88af-4bdc-903b-bc1e47305cac",
      "metadata": {
        "id": "cf26a6a4-88af-4bdc-903b-bc1e47305cac"
      },
      "source": [
        "### hstack and vstack"
      ]
    },
    {
      "cell_type": "code",
      "execution_count": null,
      "id": "657b6f05-4028-4560-8b80-3e356ba0ef8d",
      "metadata": {
        "id": "657b6f05-4028-4560-8b80-3e356ba0ef8d",
        "colab": {
          "base_uri": "https://localhost:8080/"
        },
        "outputId": "0b115a74-c50d-4b6e-a708-40621a690258"
      },
      "outputs": [
        {
          "output_type": "execute_result",
          "data": {
            "text/plain": [
              "array([[1, 2],\n",
              "       [3, 4],\n",
              "       [5, 6]])"
            ]
          },
          "metadata": {},
          "execution_count": 121
        }
      ],
      "source": [
        "np.vstack((a,b))"
      ]
    },
    {
      "cell_type": "code",
      "execution_count": null,
      "id": "264c5f1f-3db4-4b8c-a109-2a5069b6f3d5",
      "metadata": {
        "id": "264c5f1f-3db4-4b8c-a109-2a5069b6f3d5",
        "colab": {
          "base_uri": "https://localhost:8080/"
        },
        "outputId": "66a9419e-82e8-41d2-e2bd-4bfc2d2ea1dd"
      },
      "outputs": [
        {
          "output_type": "execute_result",
          "data": {
            "text/plain": [
              "array([[1, 2, 5],\n",
              "       [3, 4, 6]])"
            ]
          },
          "metadata": {},
          "execution_count": 122
        }
      ],
      "source": [
        "np.hstack((a,b.T))"
      ]
    },
    {
      "cell_type": "markdown",
      "id": "620f8887-3f2e-4017-8624-7b133bcc2ed7",
      "metadata": {
        "id": "620f8887-3f2e-4017-8624-7b133bcc2ed7"
      },
      "source": [
        "## Copy and \"deep copy\"\n",
        "\n",
        "For performance reasons, assignments in Python usually do not copy the underlaying objects. This is important for example when objects are passed between functions, to avoid an excessive amount of memory copying when it is not necessary (technical term: pass by reference)."
      ]
    },
    {
      "cell_type": "code",
      "execution_count": null,
      "id": "8527086c-7fc4-493e-bdad-79c26ebcb52b",
      "metadata": {
        "id": "8527086c-7fc4-493e-bdad-79c26ebcb52b",
        "colab": {
          "base_uri": "https://localhost:8080/"
        },
        "outputId": "6449e863-cbb9-427c-cc5f-3eed6d4e3ea6"
      },
      "outputs": [
        {
          "output_type": "execute_result",
          "data": {
            "text/plain": [
              "array([[1, 2],\n",
              "       [3, 4]])"
            ]
          },
          "metadata": {},
          "execution_count": 123
        }
      ],
      "source": [
        "A = np.array([[1, 2], [3, 4]])\n",
        "\n",
        "A"
      ]
    },
    {
      "cell_type": "code",
      "execution_count": null,
      "id": "a0109b7a-fb08-4008-9ae4-033b248b66cb",
      "metadata": {
        "id": "a0109b7a-fb08-4008-9ae4-033b248b66cb",
        "colab": {
          "base_uri": "https://localhost:8080/"
        },
        "outputId": "95e69595-de5b-47ed-a3a3-5ad56d130a8d"
      },
      "outputs": [
        {
          "output_type": "execute_result",
          "data": {
            "text/plain": [
              "array([[1, 2],\n",
              "       [3, 4]])"
            ]
          },
          "metadata": {},
          "execution_count": 124
        }
      ],
      "source": [
        "# now array B is referring to the same array data as A\n",
        "B = A\n",
        "B"
      ]
    },
    {
      "cell_type": "code",
      "execution_count": null,
      "id": "e8b4afa1-872e-4f61-a03c-c0399b01f735",
      "metadata": {
        "id": "e8b4afa1-872e-4f61-a03c-c0399b01f735",
        "colab": {
          "base_uri": "https://localhost:8080/"
        },
        "outputId": "29f9808f-e7d7-4f29-c2e8-fd1c6aeec0bd"
      },
      "outputs": [
        {
          "output_type": "execute_result",
          "data": {
            "text/plain": [
              "array([[10,  2],\n",
              "       [ 3,  4]])"
            ]
          },
          "metadata": {},
          "execution_count": 125
        }
      ],
      "source": [
        "# changing B affects A\n",
        "B[0,0] = 10\n",
        "\n",
        "A"
      ]
    },
    {
      "cell_type": "markdown",
      "id": "3edcbd82-99f3-4896-915f-d0b046f59491",
      "metadata": {
        "id": "3edcbd82-99f3-4896-915f-d0b046f59491"
      },
      "source": [
        "If we want to avoid such a behavior, so that when we get a new completely independent object B copied from A, then we need to do a so-called \"deep copy\" using the function copy:"
      ]
    },
    {
      "cell_type": "code",
      "execution_count": null,
      "id": "8efdf1d0-c0ee-458a-b440-40f3d98e8844",
      "metadata": {
        "id": "8efdf1d0-c0ee-458a-b440-40f3d98e8844"
      },
      "outputs": [],
      "source": [
        "B = np.copy(A)"
      ]
    },
    {
      "cell_type": "code",
      "execution_count": null,
      "id": "dece92ec-615f-4539-8b87-fdf5c526a705",
      "metadata": {
        "id": "dece92ec-615f-4539-8b87-fdf5c526a705",
        "colab": {
          "base_uri": "https://localhost:8080/"
        },
        "outputId": "8eede403-41d0-407b-a66b-97a371555cbe"
      },
      "outputs": [
        {
          "output_type": "execute_result",
          "data": {
            "text/plain": [
              "array([[10,  2],\n",
              "       [ 3,  4]])"
            ]
          },
          "metadata": {},
          "execution_count": 127
        }
      ],
      "source": [
        "# now, if we modify B, A is not affected\n",
        "B[0,0] = -5\n",
        "\n",
        "A"
      ]
    },
    {
      "cell_type": "markdown",
      "id": "568f4961-f6b0-4d5a-ac78-46d821ebcea7",
      "metadata": {
        "id": "568f4961-f6b0-4d5a-ac78-46d821ebcea7"
      },
      "source": [
        "## Vectorizing functions\n",
        "\n",
        "As mentioned several times by now, to get good performance we should always try to avoid looping over elements in our vectors and matrices, and instead use vectorized algorithms. The first step in converting a scalar algorithm to a vectorized algorithm is to make sure that the functions we write work with vector inputs."
      ]
    },
    {
      "cell_type": "code",
      "execution_count": null,
      "id": "c50b2fd6-ed70-499a-94b0-611c72d6e776",
      "metadata": {
        "id": "c50b2fd6-ed70-499a-94b0-611c72d6e776"
      },
      "outputs": [],
      "source": [
        "def Theta(x):\n",
        "    \"\"\"\n",
        "    scalar implementation of the Heaviside step function.\n",
        "    \"\"\"\n",
        "    if x >= 0:\n",
        "        return 1\n",
        "    else:\n",
        "        return 0"
      ]
    },
    {
      "cell_type": "code",
      "execution_count": null,
      "id": "e012b540-858b-46ac-b6a3-9af8ee9a153e",
      "metadata": {
        "id": "e012b540-858b-46ac-b6a3-9af8ee9a153e",
        "colab": {
          "base_uri": "https://localhost:8080/",
          "height": 298
        },
        "outputId": "004f3fdf-9e88-4c79-8ec1-49a8e6bddeb6"
      },
      "outputs": [
        {
          "output_type": "error",
          "ename": "ValueError",
          "evalue": "The truth value of an array with more than one element is ambiguous. Use a.any() or a.all()",
          "traceback": [
            "\u001b[0;31m---------------------------------------------------------------------------\u001b[0m",
            "\u001b[0;31mValueError\u001b[0m                                Traceback (most recent call last)",
            "\u001b[0;32m<ipython-input-193-489043f2ba8f>\u001b[0m in \u001b[0;36m<cell line: 3>\u001b[0;34m()\u001b[0m\n\u001b[1;32m      1\u001b[0m \u001b[0mv1\u001b[0m \u001b[0;34m=\u001b[0m \u001b[0mnp\u001b[0m\u001b[0;34m.\u001b[0m\u001b[0marray\u001b[0m\u001b[0;34m(\u001b[0m\u001b[0;34m[\u001b[0m\u001b[0;34m-\u001b[0m\u001b[0;36m3\u001b[0m\u001b[0;34m,\u001b[0m\u001b[0;34m-\u001b[0m\u001b[0;36m2\u001b[0m\u001b[0;34m,\u001b[0m\u001b[0;34m-\u001b[0m\u001b[0;36m1\u001b[0m\u001b[0;34m,\u001b[0m\u001b[0;36m0\u001b[0m\u001b[0;34m,\u001b[0m\u001b[0;36m1\u001b[0m\u001b[0;34m,\u001b[0m\u001b[0;36m2\u001b[0m\u001b[0;34m,\u001b[0m\u001b[0;36m3\u001b[0m\u001b[0;34m]\u001b[0m\u001b[0;34m)\u001b[0m\u001b[0;34m\u001b[0m\u001b[0;34m\u001b[0m\u001b[0m\n\u001b[1;32m      2\u001b[0m \u001b[0;34m\u001b[0m\u001b[0m\n\u001b[0;32m----> 3\u001b[0;31m \u001b[0mTheta\u001b[0m\u001b[0;34m(\u001b[0m\u001b[0mv1\u001b[0m\u001b[0;34m)\u001b[0m\u001b[0;34m\u001b[0m\u001b[0;34m\u001b[0m\u001b[0m\n\u001b[0m",
            "\u001b[0;32m<ipython-input-192-d160bfd9c2b9>\u001b[0m in \u001b[0;36mTheta\u001b[0;34m(x)\u001b[0m\n\u001b[1;32m      3\u001b[0m     \u001b[0mscalar\u001b[0m \u001b[0mimplementation\u001b[0m \u001b[0mof\u001b[0m \u001b[0mthe\u001b[0m \u001b[0mHeaviside\u001b[0m \u001b[0mstep\u001b[0m \u001b[0mfunction\u001b[0m\u001b[0;34m.\u001b[0m\u001b[0;34m\u001b[0m\u001b[0;34m\u001b[0m\u001b[0m\n\u001b[1;32m      4\u001b[0m     \"\"\"\n\u001b[0;32m----> 5\u001b[0;31m     \u001b[0;32mif\u001b[0m \u001b[0mx\u001b[0m \u001b[0;34m>=\u001b[0m \u001b[0;36m0\u001b[0m\u001b[0;34m:\u001b[0m\u001b[0;34m\u001b[0m\u001b[0;34m\u001b[0m\u001b[0m\n\u001b[0m\u001b[1;32m      6\u001b[0m         \u001b[0;32mreturn\u001b[0m \u001b[0;36m1\u001b[0m\u001b[0;34m\u001b[0m\u001b[0;34m\u001b[0m\u001b[0m\n\u001b[1;32m      7\u001b[0m     \u001b[0;32melse\u001b[0m\u001b[0;34m:\u001b[0m\u001b[0;34m\u001b[0m\u001b[0;34m\u001b[0m\u001b[0m\n",
            "\u001b[0;31mValueError\u001b[0m: The truth value of an array with more than one element is ambiguous. Use a.any() or a.all()"
          ]
        }
      ],
      "source": [
        "v1 = np.array([-3,-2,-1,0,1,2,3])\n",
        "\n",
        "Theta(v1)"
      ]
    },
    {
      "cell_type": "markdown",
      "source": [
        "That didn't work because we didn't write the function Theta so that it can handle a vector input...\n",
        "\n",
        "To get a vectorized version of Theta we can use the Numpy function vectorize. In many cases it can automatically vectorize a function:"
      ],
      "metadata": {
        "id": "1UmzFzBxHogd"
      },
      "id": "1UmzFzBxHogd"
    },
    {
      "cell_type": "code",
      "execution_count": null,
      "id": "af3e77ea-b2b4-46a9-827a-308977d509c1",
      "metadata": {
        "id": "af3e77ea-b2b4-46a9-827a-308977d509c1"
      },
      "outputs": [],
      "source": [
        "Theta_vec = np.vectorize(Theta)"
      ]
    },
    {
      "cell_type": "code",
      "execution_count": null,
      "id": "6f3fc9b1-0ca8-4735-aa6d-a3dd5368ee7f",
      "metadata": {
        "id": "6f3fc9b1-0ca8-4735-aa6d-a3dd5368ee7f",
        "colab": {
          "base_uri": "https://localhost:8080/"
        },
        "outputId": "f810f7c0-3815-47f8-cbd3-6298979a51cd"
      },
      "outputs": [
        {
          "output_type": "execute_result",
          "data": {
            "text/plain": [
              "array([0, 0, 0, 1, 1, 1, 1])"
            ]
          },
          "metadata": {},
          "execution_count": 131
        }
      ],
      "source": [
        "Theta_vec(v1)"
      ]
    },
    {
      "cell_type": "markdown",
      "source": [
        "we can also implement the function to accept a vector input from the beginning (requires more effort but might give better performance):"
      ],
      "metadata": {
        "id": "O6P7LCRAHtyH"
      },
      "id": "O6P7LCRAHtyH"
    },
    {
      "cell_type": "code",
      "execution_count": null,
      "id": "2a7b4dab-3c86-4c69-aa7d-2565c8703c12",
      "metadata": {
        "id": "2a7b4dab-3c86-4c69-aa7d-2565c8703c12"
      },
      "outputs": [],
      "source": [
        "def Theta(x):\n",
        "    \"\"\"\n",
        "    Vector-aware implementation of the Heaviside step function.\n",
        "    \"\"\"\n",
        "    return 1 * (x >= 0)"
      ]
    },
    {
      "cell_type": "code",
      "execution_count": null,
      "id": "f8616cc9-d56c-4f49-afe5-3b7caf44b575",
      "metadata": {
        "id": "f8616cc9-d56c-4f49-afe5-3b7caf44b575",
        "colab": {
          "base_uri": "https://localhost:8080/"
        },
        "outputId": "05249c42-5474-4bfa-f50e-b6e6bd4903dd"
      },
      "outputs": [
        {
          "output_type": "execute_result",
          "data": {
            "text/plain": [
              "array([0, 0, 0, 1, 1, 1, 1])"
            ]
          },
          "metadata": {},
          "execution_count": 133
        }
      ],
      "source": [
        "Theta(v1)"
      ]
    },
    {
      "cell_type": "code",
      "execution_count": null,
      "id": "8e4fde30-0133-460d-95be-8dad2f399743",
      "metadata": {
        "id": "8e4fde30-0133-460d-95be-8dad2f399743",
        "colab": {
          "base_uri": "https://localhost:8080/"
        },
        "outputId": "295af5c0-0afb-4b72-b134-ee92a0442983"
      },
      "outputs": [
        {
          "output_type": "execute_result",
          "data": {
            "text/plain": [
              "(0, 1)"
            ]
          },
          "metadata": {},
          "execution_count": 134
        }
      ],
      "source": [
        "# it even works with scalar input\n",
        "Theta(-1.2), Theta(2.6)"
      ]
    },
    {
      "cell_type": "markdown",
      "id": "47fb7b27-2f0c-4a1e-846d-e7bb5aa63b73",
      "metadata": {
        "id": "47fb7b27-2f0c-4a1e-846d-e7bb5aa63b73"
      },
      "source": [
        "## Exercices"
      ]
    },
    {
      "cell_type": "markdown",
      "id": "ee713ca6-fd21-425c-9191-9889a5633114",
      "metadata": {
        "id": "ee713ca6-fd21-425c-9191-9889a5633114"
      },
      "source": [
        "### Exercise 1: Creating and Manipulating NumPy Arrays\n",
        "\n",
        "- Create a 1D NumPy array from the list [5, 10, 15, 20, 25]. Convert the array to type float64 and print it.\n",
        "\n",
        "- Create a 2D NumPy array from the nested list [[1, 2, 3], [4, 5, 6], [7, 8, 9]]. Print the shape and size of the array.\n",
        "\n",
        "- Create a 3D NumPy array with random values of shape (2, 3, 4). Print the number of dimensions and the shape of the array."
      ]
    },
    {
      "cell_type": "code",
      "source": [
        "# Create a 1D NumPy array from the list [5, 10, 15, 20, 25]. Convert the array to type float64 and print it.\n",
        "\n",
        "import numpy as np\n",
        "\n",
        "my_list = [5, 10, 15, 20, 25]\n",
        "my_array = np.array(my_list, dtype=np.float64)\n",
        "print(my_array)\n"
      ],
      "metadata": {
        "colab": {
          "base_uri": "https://localhost:8080/"
        },
        "id": "lLDxRM7eQLds",
        "outputId": "4d002cc8-04c7-45bf-83b6-ec0cd98a6762"
      },
      "id": "lLDxRM7eQLds",
      "execution_count": null,
      "outputs": [
        {
          "output_type": "stream",
          "name": "stdout",
          "text": [
            "[ 5. 10. 15. 20. 25.]\n"
          ]
        }
      ]
    },
    {
      "cell_type": "code",
      "source": [
        "# Create a 2D NumPy array from the nested list [[1, 2, 3], [4, 5, 6], [7, 8, 9]]. Print the shape and size of the array.\n",
        "\n",
        "import numpy as np\n",
        "\n",
        "my_nested_list = [[1, 2, 3], [4, 5, 6], [7, 8, 9]]\n",
        "my_array = np.array(my_nested_list)\n",
        "print(my_array.shape, my_array.size)\n"
      ],
      "metadata": {
        "colab": {
          "base_uri": "https://localhost:8080/"
        },
        "id": "WFvM6NiHQVHZ",
        "outputId": "311d9d57-dbdf-4d07-87a5-8c60050ce279"
      },
      "id": "WFvM6NiHQVHZ",
      "execution_count": null,
      "outputs": [
        {
          "output_type": "stream",
          "name": "stdout",
          "text": [
            "(3, 3) 9\n"
          ]
        }
      ]
    },
    {
      "cell_type": "code",
      "source": [
        "# Create a 3D NumPy array with random values of shape (2, 3, 4). Print the number of dimensions and the shape of the array.\n",
        "\n",
        "import numpy as np\n",
        "my_array = np.random.rand(2, 3, 4)\n",
        "print(my_array, my_array.ndim, my_array.shape)\n"
      ],
      "metadata": {
        "colab": {
          "base_uri": "https://localhost:8080/"
        },
        "id": "riUhVLtpQrU5",
        "outputId": "9b0009f9-e2d6-4bcb-cfdb-4a79db8c85d1"
      },
      "id": "riUhVLtpQrU5",
      "execution_count": null,
      "outputs": [
        {
          "output_type": "stream",
          "name": "stdout",
          "text": [
            "[[[0.84500843 0.43376388 0.90992782 0.26625456]\n",
            "  [0.37197353 0.63290869 0.8997755  0.41428347]\n",
            "  [0.45442591 0.66110039 0.26386162 0.59902244]]\n",
            "\n",
            " [[0.87870254 0.260332   0.41196879 0.60419974]\n",
            "  [0.38666218 0.66625677 0.21205808 0.44889247]\n",
            "  [0.56729026 0.74727565 0.80257238 0.72515239]]] 3 (2, 3, 4)\n"
          ]
        }
      ]
    },
    {
      "cell_type": "markdown",
      "source": [],
      "metadata": {
        "id": "hxJfPzIAR0ya"
      },
      "id": "hxJfPzIAR0ya"
    },
    {
      "cell_type": "markdown",
      "id": "4783555d-abea-40b5-8e42-bf9619a2875d",
      "metadata": {
        "id": "4783555d-abea-40b5-8e42-bf9619a2875d"
      },
      "source": [
        "### Exercise 1: Creating and Manipulating NumPy Arrays\n",
        "\n",
        "- Create a 1D NumPy array from the list [5, 10, 15, 20, 25]. Convert the array to type float64 and print it.\n",
        "\n",
        "- Create a 2D NumPy array from the nested list [[1, 2, 3], [4, 5, 6], [7, 8, 9]]. Print the shape and size of the array.\n",
        "\n",
        "- Create a 3D NumPy array with random values of shape (2, 3, 4). Print the number of dimensions and the shape of the array."
      ]
    },
    {
      "cell_type": "markdown",
      "id": "3d4dbc34-57e5-434d-a98f-55fe6f1493e6",
      "metadata": {
        "id": "3d4dbc34-57e5-434d-a98f-55fe6f1493e6"
      },
      "source": [
        "### Exercise 3: Advanced Array Manipulations\n",
        "\n",
        "- Create a 1D NumPy array with the numbers from 0 to 9. Reverse the array and print it.\n",
        "\n",
        "- Create a 2D NumPy array with the numbers from 0 to 11, arranged in a 3x4 shape. Extract a subarray consisting of the first two rows and the last two columns, and print it.\n",
        "\n",
        "- Create a 2D NumPy array of shape (5, 5) with random integers between 0 and 10. Replace all elements greater than 5 with 0 and print the modified array."
      ]
    },
    {
      "cell_type": "code",
      "source": [
        "# Create a 1D NumPy array with the numbers from 0 to 9. Reverse the array and print it.\n",
        "import numpy as np\n",
        "\n",
        "my_array = np.arange(0, 9)\n",
        "my_array = my_array[::-1]\n",
        "print(my_array)\n"
      ],
      "metadata": {
        "colab": {
          "base_uri": "https://localhost:8080/"
        },
        "id": "6DTYJXTkSJxl",
        "outputId": "aed0eca9-6a6b-40c1-8d78-2e6725886f7a"
      },
      "id": "6DTYJXTkSJxl",
      "execution_count": null,
      "outputs": [
        {
          "output_type": "stream",
          "name": "stdout",
          "text": [
            "[8 7 6 5 4 3 2 1 0]\n"
          ]
        }
      ]
    },
    {
      "cell_type": "code",
      "source": [
        "# Create a 2D NumPy array with the numbers from 0 to 11, arranged in a 3x4 shape. Extract a subarray consisting of the first two rows and the last two columns, and print it.\n",
        "\n",
        "import numpy as np\n",
        "\n",
        "\n",
        "my_array = np.arange(0, 12).reshape(3, 4)\n",
        "sub_array = my_array[:2,-2:]\n",
        "print(\"my_array :\\n\", my_array, \"\\nsub_array :\\n\", sub_array)\n"
      ],
      "metadata": {
        "colab": {
          "base_uri": "https://localhost:8080/"
        },
        "id": "swKLoa_rTIBd",
        "outputId": "8f6bc13d-f196-4cd1-8711-94487773245e"
      },
      "id": "swKLoa_rTIBd",
      "execution_count": null,
      "outputs": [
        {
          "output_type": "stream",
          "name": "stdout",
          "text": [
            "my_array :\n",
            " [[ 0  1  2  3]\n",
            " [ 4  5  6  7]\n",
            " [ 8  9 10 11]] \n",
            "sub_array :\n",
            " [[2 3]\n",
            " [6 7]]\n"
          ]
        }
      ]
    },
    {
      "cell_type": "code",
      "source": [
        "# Create a 2D NumPy array of shape (5, 5) with random integers between 0 and 10. Replace all elements greater than 5 with 0 and print the modified array.\n",
        "\n",
        "import numpy as np\n",
        "\n",
        "my_array = np.random.randint(0, 11, size=(5, 5))\n",
        "print(\"array before changes : \\n\", my_array)\n",
        "my_array[my_array > 5] = 0\n",
        "print(\"array before changes : \\n\",my_array)"
      ],
      "metadata": {
        "colab": {
          "base_uri": "https://localhost:8080/"
        },
        "id": "ZuFtM5koUYBa",
        "outputId": "4da90b20-21e0-4d6c-a591-c9bf94a20e47"
      },
      "id": "ZuFtM5koUYBa",
      "execution_count": null,
      "outputs": [
        {
          "output_type": "stream",
          "name": "stdout",
          "text": [
            "array before changes : \n",
            " [[10  5  7 10  5]\n",
            " [ 1  0  2  9  7]\n",
            " [10  2  6  0  6]\n",
            " [ 7  9  8  0  6]\n",
            " [ 7  6  5  9  9]]\n",
            "array before changes : \n",
            " [[0 5 0 0 5]\n",
            " [1 0 2 0 0]\n",
            " [0 2 0 0 0]\n",
            " [0 0 0 0 0]\n",
            " [0 0 5 0 0]]\n"
          ]
        }
      ]
    },
    {
      "cell_type": "markdown",
      "id": "e7c86dd4-03fb-44d7-a644-19f4c403a12e",
      "metadata": {
        "id": "e7c86dd4-03fb-44d7-a644-19f4c403a12e"
      },
      "source": [
        "### Exercise 4: Array Initialization and Attributes\n",
        "\n",
        "- Create a 3x3 identity matrix using NumPy and print its attributes: ndim, shape, size, itemsize, and nbytes.\n",
        "\n",
        "- Create an array of 10 evenly spaced numbers between 0 and 5 using numpy.linspace(). Print the array and its datatype.\n",
        "\n",
        "- Create a 3D array of shape (2, 3, 4) with random values from a standard normal distribution. Print the array and the sum of all elements."
      ]
    },
    {
      "cell_type": "code",
      "source": [
        "# Create a 3x3 identity matrix using NumPy and print its attributes: ndim, shape, size, itemsize, and nbytes.\n",
        "\n",
        "import numpy as np\n",
        "\n",
        "my_array = np.eye(3)\n",
        "print(my_array, \"\\n\", \"ndim :\", my_array.ndim, \"shape :\", my_array.shape, \"size :\", my_array.size, \"itemsize :\", my_array.nbytes, \"ndim :\", my_array.nbytes)"
      ],
      "metadata": {
        "colab": {
          "base_uri": "https://localhost:8080/"
        },
        "id": "zQ7IfSlCVyr_",
        "outputId": "5f0cc8dc-20ad-4521-b467-b4ead37b242e"
      },
      "id": "zQ7IfSlCVyr_",
      "execution_count": null,
      "outputs": [
        {
          "output_type": "stream",
          "name": "stdout",
          "text": [
            "[[1. 0. 0.]\n",
            " [0. 1. 0.]\n",
            " [0. 0. 1.]] \n",
            " ndim : 2 shape : (3, 3) size : 9 itemsize : 72 ndim : 72\n"
          ]
        }
      ]
    },
    {
      "cell_type": "code",
      "source": [
        "# Create an array of 10 evenly spaced numbers between 0 and 5 using numpy.linspace(). Print the array and its datatype.\n",
        "\n",
        "import numpy as np\n",
        "\n",
        "my_array = np.linspace(0, 5, 10)\n",
        "print(my_array, \"\\ndata type : \", my_array.dtype)"
      ],
      "metadata": {
        "colab": {
          "base_uri": "https://localhost:8080/"
        },
        "id": "juXefspUV0yI",
        "outputId": "65fc5935-4f9b-4ea3-cfcf-45ba179ef164"
      },
      "id": "juXefspUV0yI",
      "execution_count": null,
      "outputs": [
        {
          "output_type": "stream",
          "name": "stdout",
          "text": [
            "[0.         0.55555556 1.11111111 1.66666667 2.22222222 2.77777778\n",
            " 3.33333333 3.88888889 4.44444444 5.        ] \n",
            "data type :  float64\n"
          ]
        }
      ]
    },
    {
      "cell_type": "code",
      "source": [
        "# Create a 3D array of shape (2, 3, 4) with random values from a standard normal distribution. Print the array and the sum of all elements.\n",
        "my_array = np.array(np.random.rand(2, 3, 4))\n",
        "print(my_array, \"\\n\", \"sum :\", my_array.sum())"
      ],
      "metadata": {
        "colab": {
          "base_uri": "https://localhost:8080/"
        },
        "id": "U7KXFmG_V2v4",
        "outputId": "61396d4c-d487-4eab-f560-fcd81c73d740"
      },
      "id": "U7KXFmG_V2v4",
      "execution_count": null,
      "outputs": [
        {
          "output_type": "stream",
          "name": "stdout",
          "text": [
            "[[[0.21371953 0.55162335 0.4732991  0.85651603]\n",
            "  [0.41907663 0.37575992 0.7386754  0.59543458]\n",
            "  [0.89071634 0.03131929 0.31553523 0.03769116]]\n",
            "\n",
            " [[0.90470187 0.9978065  0.20428867 0.17295854]\n",
            "  [0.91880683 0.18256963 0.13660461 0.2789379 ]\n",
            "  [0.53207897 0.16629628 0.6889328  0.1153002 ]]] \n",
            " sum : 10.798649349630574\n"
          ]
        }
      ]
    },
    {
      "cell_type": "markdown",
      "id": "151fdc58-1d73-46e0-968f-96fde104fb2e",
      "metadata": {
        "id": "151fdc58-1d73-46e0-968f-96fde104fb2e"
      },
      "source": [
        "### Exercise 4: Array Initialization and Attributes\n",
        "\n",
        "- Create a 3x3 identity matrix using NumPy and print its attributes: ndim, shape, size, itemsize, and nbytes.\n",
        "\n",
        "- Create an array of 10 evenly spaced numbers between 0 and 5 using numpy.linspace(). Print the array and its datatype.\n",
        "\n",
        "- Create a 3D array of shape (2, 3, 4) with random values from a standard normal distribution. Print the array and the sum of all elements."
      ]
    },
    {
      "cell_type": "markdown",
      "id": "e27faf4f-15f8-4f8e-8633-a3a9f313ebe4",
      "metadata": {
        "id": "e27faf4f-15f8-4f8e-8633-a3a9f313ebe4"
      },
      "source": [
        "### Exercise 5: Fancy Indexing and Masking\n",
        "\n",
        "- Create a 1D NumPy array with random integers between 0 and 50 of size 20. Use fancy indexing to extract elements at indices [2, 5, 7, 10, 15] and print them.\n",
        "\n",
        "- Create a 2D NumPy array with random integers between 0 and 30 of shape (4, 5). Use a boolean mask to select all elements greater than 15 and print them.\n",
        "\n",
        "- Create a 1D NumPy array of 10 random integers between -10 and 10. Use a boolean mask to set all negative values to zero and print the modified array."
      ]
    },
    {
      "cell_type": "code",
      "source": [
        "# Create a 1D NumPy array with random integers between 0 and 50 of size 20. Use fancy indexing to extract elements at indices [2, 5, 7, 10, 15] and print them.\n",
        "\n",
        "import numpy as np\n",
        "\n",
        "my_array = np.array(np.random.randint(0, 50, 20))\n",
        "row_indices = [2, 5, 7, 10, 15]\n",
        "my_array[row_indices]"
      ],
      "metadata": {
        "colab": {
          "base_uri": "https://localhost:8080/"
        },
        "id": "BbjFaDBSYFG3",
        "outputId": "b2c68c80-c34e-4daf-fe04-75b09e2c9fd1"
      },
      "id": "BbjFaDBSYFG3",
      "execution_count": null,
      "outputs": [
        {
          "output_type": "execute_result",
          "data": {
            "text/plain": [
              "array([22,  1, 29,  0, 21])"
            ]
          },
          "metadata": {},
          "execution_count": 144
        }
      ]
    },
    {
      "cell_type": "code",
      "source": [
        "# Create a 2D NumPy array with random integers between 0 and 30 of shape (4, 5). Use a boolean mask to select all elements greater than 15 and print them.\n",
        "\n",
        "import numpy as np\n",
        "my_array = np.array(np.random.randint(0, 30, (4, 5)))\n",
        "mask = my_array > 15\n",
        "print(\"mask : \", mask)\n",
        "print(\"array after mask :\", my_array[mask])"
      ],
      "metadata": {
        "colab": {
          "base_uri": "https://localhost:8080/"
        },
        "id": "s2X3-2reYIIw",
        "outputId": "366a94ed-0ce4-4f2a-8500-3929be448def"
      },
      "id": "s2X3-2reYIIw",
      "execution_count": null,
      "outputs": [
        {
          "output_type": "stream",
          "name": "stdout",
          "text": [
            "mask :  [[False  True  True  True  True]\n",
            " [False  True False False  True]\n",
            " [ True False False False  True]\n",
            " [ True False False  True False]]\n",
            "array after mask : [18 22 25 17 20 28 23 22 25 27]\n"
          ]
        }
      ]
    },
    {
      "cell_type": "code",
      "source": [
        "# Create a 1D NumPy array of 10 random integers between -10 and 10. Use a boolean mask to set all negative values to zero and print the modified array.\n",
        "\n",
        "import numpy as np\n",
        "\n",
        "my_array = np.array(np.random.randint(-10, 10, 10))\n",
        "print(\"array before changes : \", my_array)\n",
        "mask = my_array < 0\n",
        "my_array[mask] = 0\n",
        "print(\"array after changes : \", my_array)\n",
        "\n"
      ],
      "metadata": {
        "colab": {
          "base_uri": "https://localhost:8080/"
        },
        "id": "9my8r84KYJmU",
        "outputId": "91b3d9cb-29cb-4316-8fef-1e52bc3e27c0"
      },
      "id": "9my8r84KYJmU",
      "execution_count": null,
      "outputs": [
        {
          "output_type": "stream",
          "name": "stdout",
          "text": [
            "array before changes :  [ 3  6  7  4  3 -2 -5  6 -5 -9]\n",
            "array after changes :  [3 6 7 4 3 0 0 6 0 0]\n"
          ]
        }
      ]
    },
    {
      "cell_type": "markdown",
      "id": "2b302497-04fe-409f-bc03-55b5dfa0f059",
      "metadata": {
        "id": "2b302497-04fe-409f-bc03-55b5dfa0f059"
      },
      "source": [
        "### Exercise 5: Fancy Indexing and Masking\n",
        "\n",
        "- Create a 1D NumPy array with random integers between 0 and 50 of size 20. Use fancy indexing to extract elements at indices [2, 5, 7, 10, 15] and print them.\n",
        "\n",
        "- Create a 2D NumPy array with random integers between 0 and 30 of shape (4, 5). Use a boolean mask to select all elements greater than 15 and print them.\n",
        "\n",
        "- Create a 1D NumPy array of 10 random integers between -10 and 10. Use a boolean mask to set all negative values to zero and print the modified array."
      ]
    },
    {
      "cell_type": "markdown",
      "id": "f180b452-97ed-46e6-bb11-225baa0578a1",
      "metadata": {
        "id": "f180b452-97ed-46e6-bb11-225baa0578a1"
      },
      "source": [
        "### Exercise 7: Combining and Splitting Arrays\n",
        "\n",
        "- Create two 1D NumPy arrays of length 5 with random integers between 0 and 10. Concatenate the two arrays and print the result.\n",
        "\n",
        "- Create a 2D NumPy array of shape (6, 4) with random integers between 0 and 10. Split the array into two equal parts along the row axis and print them.\n",
        "\n",
        "- Create a 2D NumPy array of shape (3, 6) with random integers between 0 and 10. Split the array into three equal parts along the column axis and print them."
      ]
    },
    {
      "cell_type": "code",
      "source": [
        "# Create two 1D NumPy arrays of length 5 with random integers between 0 and 10. Concatenate the two arrays and print the result.\n",
        "\n",
        "my_array1 = np.array(np.random.randint(0, 10, 5))\n",
        "my_array2 = np.array(np.random.randint(0, 10, 5))\n",
        "\n",
        "my_array3 = np.concatenate((my_array1, my_array2))\n",
        "print(my_array3)"
      ],
      "metadata": {
        "colab": {
          "base_uri": "https://localhost:8080/"
        },
        "id": "sdNdK-Q_a-pp",
        "outputId": "dae7c5f4-6477-4ba7-dd37-5990b07d8247"
      },
      "id": "sdNdK-Q_a-pp",
      "execution_count": null,
      "outputs": [
        {
          "output_type": "stream",
          "name": "stdout",
          "text": [
            "[9 5 9 7 7 3 9 8 0 7]\n"
          ]
        }
      ]
    },
    {
      "cell_type": "code",
      "source": [
        "# Create a 2D NumPy array of shape (6, 4) with random integers between 0 and 10. Split the array into two equal parts along the row axis and print them.\n",
        "\n",
        "my_array = np.array(np.random.randint(0, 10, size = (6, 4)))\n",
        "\n",
        "split_array = np.split(my_array, 2)\n",
        "print(split_array)"
      ],
      "metadata": {
        "colab": {
          "base_uri": "https://localhost:8080/"
        },
        "id": "hvTYNFrcbAq5",
        "outputId": "b604332d-e302-45b6-a774-e9ffe132bfff"
      },
      "id": "hvTYNFrcbAq5",
      "execution_count": null,
      "outputs": [
        {
          "output_type": "stream",
          "name": "stdout",
          "text": [
            "[array([[2, 8, 8, 3],\n",
            "       [1, 1, 1, 8],\n",
            "       [4, 4, 2, 7]]), array([[0, 7, 2, 4],\n",
            "       [3, 1, 8, 8],\n",
            "       [4, 6, 8, 2]])]\n"
          ]
        }
      ]
    },
    {
      "cell_type": "code",
      "source": [
        "# Create a 2D NumPy array of shape (3, 6) with random integers between 0 and 10. Split the array into three equal parts along the column axis and print them.\n",
        "\n",
        "my_array = np.array(np.random.randint(0, 10, size = (3, 6)))\n",
        "\n",
        "split_array = np.split(my_array, 3, axis = 1) # axis 1 represent the columns\n",
        "print(split_array)"
      ],
      "metadata": {
        "colab": {
          "base_uri": "https://localhost:8080/"
        },
        "id": "2aQ7lxAXbCfL",
        "outputId": "1c5f81fb-cad8-4260-9a60-9b7ff4a6c5b3"
      },
      "id": "2aQ7lxAXbCfL",
      "execution_count": null,
      "outputs": [
        {
          "output_type": "stream",
          "name": "stdout",
          "text": [
            "[array([[2, 9],\n",
            "       [2, 1],\n",
            "       [6, 2]]), array([[7, 9],\n",
            "       [2, 7],\n",
            "       [2, 0]]), array([[3, 5],\n",
            "       [7, 0],\n",
            "       [4, 4]])]\n"
          ]
        }
      ]
    },
    {
      "cell_type": "markdown",
      "id": "41ad50a7-466b-42cb-8a45-9b724684b47e",
      "metadata": {
        "id": "41ad50a7-466b-42cb-8a45-9b724684b47e"
      },
      "source": [
        "### Exercise 8: Mathematical Functions and Aggregations\n",
        "\n",
        "- Create a 1D NumPy array with random integers between 1 and 100 of size 15. Compute and print the mean, median, standard deviation, and variance of the array.\n",
        "\n",
        "- Create a 2D NumPy array of shape (4, 4) with random integers between 1 and 50. Compute and print the sum of each row and each column.\n",
        "\n",
        "- Create a 3D NumPy array of shape (2, 3, 4) with random integers between 1 and 20. Find the maximum and minimum values along each axis and print them."
      ]
    },
    {
      "cell_type": "code",
      "source": [
        "# Create a 1D NumPy array with random integers between 1 and 100 of size 15. Compute and print the mean, median, standard deviation, and variance of the array.\n",
        "\n",
        "import numpy as np\n",
        "\n",
        "my_array = np.array(np.random.randint(1, 100, 15))\n",
        "\n",
        "print(\"mean : \", my_array.mean())\n",
        "print(\"median : \", np.median(my_array))\n",
        "print(\"standard deviation : \", np.std(my_array))\n",
        "print(\"variance : \", np.var(my_array))\n"
      ],
      "metadata": {
        "colab": {
          "base_uri": "https://localhost:8080/"
        },
        "id": "oQi9KLSBcVcZ",
        "outputId": "5bc66476-c68e-4fc7-9ee2-28afae5ec8f7"
      },
      "id": "oQi9KLSBcVcZ",
      "execution_count": null,
      "outputs": [
        {
          "output_type": "stream",
          "name": "stdout",
          "text": [
            "mean :  51.666666666666664\n",
            "median :  48.0\n",
            "standard deviation :  25.43925226015017\n",
            "variance :  647.1555555555555\n"
          ]
        }
      ]
    },
    {
      "cell_type": "code",
      "source": [
        "# Create a 2D NumPy array of shape (4, 4) with random integers between 1 and 50. Compute and print the sum of each row and each column.\n",
        "\n",
        "import numpy as np\n",
        "\n",
        "my_array = np.array(np.random.randint(1, 50, size = (4, 4)))\n",
        "\n",
        "print(\"sum of each row : \", np.sum(my_array, axis = 1))\n",
        "my_array"
      ],
      "metadata": {
        "colab": {
          "base_uri": "https://localhost:8080/"
        },
        "id": "7F0cHkg9cXbv",
        "outputId": "cee90cb4-1257-44ca-b95d-756eb758109d"
      },
      "id": "7F0cHkg9cXbv",
      "execution_count": null,
      "outputs": [
        {
          "output_type": "stream",
          "name": "stdout",
          "text": [
            "sum of each row :  [109 143 104  93]\n"
          ]
        },
        {
          "output_type": "execute_result",
          "data": {
            "text/plain": [
              "array([[34, 23, 16, 36],\n",
              "       [31, 42, 42, 28],\n",
              "       [ 9, 40, 44, 11],\n",
              "       [ 5, 38, 12, 38]])"
            ]
          },
          "metadata": {},
          "execution_count": 151
        }
      ]
    },
    {
      "cell_type": "code",
      "source": [
        "# Create a 3D NumPy array of shape (2, 3, 4) with random integers between 1 and 20. Find the maximum and minimum values along each axis and print them.\n",
        "\n",
        "my_array = np.array(np.random.randint(1, 20, size = (2, 3, 4)))\n",
        "\n",
        "print(\"max : \\n\", np.max(my_array, axis = 1))\n",
        "print(\"min : \\n\", np.min(my_array, axis = 1))\n"
      ],
      "metadata": {
        "colab": {
          "base_uri": "https://localhost:8080/"
        },
        "id": "ynWQATXwcYv7",
        "outputId": "dc7c5604-4379-4d03-bf81-3ccf13b0cb27"
      },
      "id": "ynWQATXwcYv7",
      "execution_count": null,
      "outputs": [
        {
          "output_type": "stream",
          "name": "stdout",
          "text": [
            "max : \n",
            " [[17 14 10 14]\n",
            " [18 12 16 12]]\n",
            "min : \n",
            " [[ 4  2 10  2]\n",
            " [ 8  6  5  7]]\n"
          ]
        }
      ]
    },
    {
      "cell_type": "markdown",
      "id": "c5e0e742-8ce5-47f6-a71c-1b2b1c9dc736",
      "metadata": {
        "id": "c5e0e742-8ce5-47f6-a71c-1b2b1c9dc736"
      },
      "source": [
        "### Exercise 9: Reshaping and Transposing Arrays\n",
        "\n",
        "- Create a 1D NumPy array with the numbers from 1 to 12. Reshape the array to a 2D array of shape (3, 4) and print it.\n",
        "\n",
        "- Create a 2D NumPy array of shape (3, 4) with random integers between 1 and 10. Transpose the array and print the transposed array.\n",
        "\n",
        "- Create a 2D NumPy array of shape (2, 3) with random integers between 1 and 10. Flatten the array to 1D and print the result."
      ]
    },
    {
      "cell_type": "code",
      "source": [
        "# Create a 1D NumPy array with the numbers from 1 to 12. Reshape the array to a 2D array of shape (3, 4) and print it.\n",
        "\n",
        "import numpy as np\n",
        "\n",
        "my_array = np.arange(1, 13)\n",
        "my_array = my_array.reshape(3, 4)\n",
        "print(my_array)"
      ],
      "metadata": {
        "colab": {
          "base_uri": "https://localhost:8080/"
        },
        "id": "1mPsBr9Zfowz",
        "outputId": "f1e6c300-ddf4-4afd-eafa-6dddc4634449"
      },
      "id": "1mPsBr9Zfowz",
      "execution_count": null,
      "outputs": [
        {
          "output_type": "stream",
          "name": "stdout",
          "text": [
            "[[ 1  2  3  4]\n",
            " [ 5  6  7  8]\n",
            " [ 9 10 11 12]]\n"
          ]
        }
      ]
    },
    {
      "cell_type": "code",
      "source": [
        "# Create a 2D NumPy array of shape (3, 4) with random integers between 1 and 10. Transpose the array and print the transposed array.\n",
        "\n",
        "import numpy as np\n",
        "\n",
        "my_array = np.array(np.random.randint(1, 10, size = (3, 4)))\n",
        "print(my_array.T)\n"
      ],
      "metadata": {
        "colab": {
          "base_uri": "https://localhost:8080/"
        },
        "id": "de_9CDyafrMP",
        "outputId": "f0eca330-f568-4771-8bd7-209216f4d495"
      },
      "id": "de_9CDyafrMP",
      "execution_count": null,
      "outputs": [
        {
          "output_type": "stream",
          "name": "stdout",
          "text": [
            "[[6 6 7]\n",
            " [2 9 2]\n",
            " [4 4 8]\n",
            " [1 7 6]]\n"
          ]
        }
      ]
    },
    {
      "cell_type": "code",
      "source": [
        "# Create a 2D NumPy array of shape (2, 3) with random integers between 1 and 10. Flatten the array to 1D and print the result.\n",
        "\n",
        "import numpy as np\n",
        "\n",
        "my_array = np.array(np.random.randint(1, 10, size = (2, 3)))\n",
        "print(my_array.flatten())"
      ],
      "metadata": {
        "colab": {
          "base_uri": "https://localhost:8080/"
        },
        "id": "1lslsTVufstV",
        "outputId": "efddf13b-cf78-4a43-d7dc-2ae22f79c726"
      },
      "id": "1lslsTVufstV",
      "execution_count": null,
      "outputs": [
        {
          "output_type": "stream",
          "name": "stdout",
          "text": [
            "[6 7 6 6 5 1]\n"
          ]
        }
      ]
    },
    {
      "cell_type": "markdown",
      "id": "1fa80520-2e63-47eb-aaee-146b270ad4d2",
      "metadata": {
        "id": "1fa80520-2e63-47eb-aaee-146b270ad4d2"
      },
      "source": [
        "### Exercise 10: Broadcasting and Vectorized Operations\n",
        "\n",
        "- Create a 2D NumPy array of shape (3, 4) with random integers between 1 and 10. Subtract the mean of each column from the respective column elements and print the result.\n",
        "\n",
        "- Create two 1D NumPy arrays of length 4 with random integers between 1 and 5. Use broadcasting to compute and print the outer product of the two arrays.\n",
        "\n",
        "- Create a 2D NumPy array of shape (4, 5) with random integers between 1 and 10. Add 10 to all elements of the array that are greater than 5 and print the modified array."
      ]
    },
    {
      "cell_type": "code",
      "source": [
        "# Create a 2D NumPy array of shape (3, 4) with random integers between 1 and 10. Subtract the mean of each column from the respective column elements and print the result.\n",
        "\n",
        "import numpy as np\n",
        "\n",
        "my_array = np.array(np.random.randint(1, 10, size = (3, 4)))\n",
        "\n",
        "my_array = my_array - my_array.mean(axis = 0)\n",
        "print(my_array)"
      ],
      "metadata": {
        "colab": {
          "base_uri": "https://localhost:8080/"
        },
        "id": "PFqsLHXRgrsh",
        "outputId": "2a2b230b-5269-43ec-9c92-a037196d5d01"
      },
      "id": "PFqsLHXRgrsh",
      "execution_count": null,
      "outputs": [
        {
          "output_type": "stream",
          "name": "stdout",
          "text": [
            "[[-0.33333333 -4.33333333 -0.33333333  0.33333333]\n",
            " [-0.33333333  2.66666667 -0.33333333  2.33333333]\n",
            " [ 0.66666667  1.66666667  0.66666667 -2.66666667]]\n"
          ]
        }
      ]
    },
    {
      "cell_type": "code",
      "source": [
        "# Create two 1D NumPy arrays of length 4 with random integers between 1 and 5. Use broadcasting to compute and print the outer product of the two arrays.\n",
        "\n",
        "my_array1 = np.array(np.random.randint(1, 5, 4))\n",
        "my_array2 = np.array(np.random.randint(1, 5, 4))\n"
      ],
      "metadata": {
        "id": "P640Y8DngtfZ"
      },
      "id": "P640Y8DngtfZ",
      "execution_count": null,
      "outputs": []
    },
    {
      "cell_type": "code",
      "source": [
        "\n",
        "\"\"\"\n",
        "np.outer() prend deux vecteurs et calcule le produit de chaque élément du premier vecteur avec chaque élément du second,\n",
        "ce qui génère une matrice de dimension (4, 4).\n",
        "\n",
        "\"\"\"\n",
        "print(np.outer(my_array1,  my_array2))\n"
      ],
      "metadata": {
        "colab": {
          "base_uri": "https://localhost:8080/"
        },
        "id": "xySoGmXLB-cC",
        "outputId": "37196f12-bbb4-42d6-e52a-cec6e2ec1b39"
      },
      "id": "xySoGmXLB-cC",
      "execution_count": null,
      "outputs": [
        {
          "output_type": "stream",
          "name": "stdout",
          "text": [
            "[[ 4 12 12 12]\n",
            " [ 1  3  3  3]\n",
            " [ 3  9  9  9]\n",
            " [ 3  9  9  9]]\n"
          ]
        }
      ]
    },
    {
      "cell_type": "code",
      "source": [
        "\"\"\"\n",
        "my_array1[:, np.newaxis] redimensionne le premier tableau pour qu'il devienne un tableau colonne (4, 1).\n",
        "La multiplication de ce tableau colonne avec un tableau ligne (comme my_array2) produit une matrice 4×44×4. Grâce au broadcasting,\n",
        "NumPy aligne automatiquement les dimensions pour réaliser l'opération élément par élément.\n",
        "\"\"\"\n",
        "my_array1[:, np.newaxis] * my_array2"
      ],
      "metadata": {
        "colab": {
          "base_uri": "https://localhost:8080/"
        },
        "id": "TgLTae0EkH-p",
        "outputId": "367020b7-3c43-442c-8899-09122a0eb4c1"
      },
      "id": "TgLTae0EkH-p",
      "execution_count": null,
      "outputs": [
        {
          "output_type": "execute_result",
          "data": {
            "text/plain": [
              "array([[ 4, 12, 12, 12],\n",
              "       [ 1,  3,  3,  3],\n",
              "       [ 3,  9,  9,  9],\n",
              "       [ 3,  9,  9,  9]])"
            ]
          },
          "metadata": {},
          "execution_count": 159
        }
      ]
    },
    {
      "cell_type": "code",
      "source": [
        "# Create a 2D NumPy array of shape (4, 5) with random integers between 1 and 10. Add 10 to all elements of the array that are greater than 5 and print the modified array.\n",
        "\n",
        "my_array = np.array(np.random.randint(1, 10, size = (4, 5)))\n",
        "\n",
        "my_array[my_array > 5] += 10\n",
        "print(my_array)"
      ],
      "metadata": {
        "colab": {
          "base_uri": "https://localhost:8080/"
        },
        "id": "_OnEqfD-gu_c",
        "outputId": "223cbcea-6898-4fbb-c01a-ef098d3602a4"
      },
      "id": "_OnEqfD-gu_c",
      "execution_count": null,
      "outputs": [
        {
          "output_type": "stream",
          "name": "stdout",
          "text": [
            "[[ 5  3 16 16  5]\n",
            " [ 5 19 18  3 17]\n",
            " [19 18  5 18 18]\n",
            " [ 1 18 17 19  1]]\n"
          ]
        }
      ]
    },
    {
      "cell_type": "markdown",
      "id": "445448b3-8685-42de-9ba1-144026694c0e",
      "metadata": {
        "id": "445448b3-8685-42de-9ba1-144026694c0e"
      },
      "source": [
        "### Exercise 11: Sorting and Searching Arrays\n",
        "\n",
        "- Create a 1D NumPy array with random integers between 1 and 20 of size 10. Sort the array in ascending order and print the sorted array.\n",
        "\n",
        "- Create a 2D NumPy array of shape (3, 5) with random integers between 1 and 50. Sort the array by the second column and print the result.\n",
        "\n",
        "- Create a 1D NumPy array with random integers between 1 and 100 of size 15. Find and print the indices of all elements greater than 50."
      ]
    },
    {
      "cell_type": "code",
      "source": [
        "# Create a 1D NumPy array with random integers between 1 and 20 of size 10. Sort the array in ascending order and print the sorted array.\n",
        "\n",
        "import numpy as np\n",
        "\n",
        "my_array = np.array(np.random.randint(1, 20, 10))\n",
        "my_array.sort()\n",
        "print(my_array)\n"
      ],
      "metadata": {
        "colab": {
          "base_uri": "https://localhost:8080/"
        },
        "id": "9t2e3pa8CMh1",
        "outputId": "f5ac85d2-6890-4fbe-ee14-18f8ea63c7eb"
      },
      "id": "9t2e3pa8CMh1",
      "execution_count": null,
      "outputs": [
        {
          "output_type": "stream",
          "name": "stdout",
          "text": [
            "[ 2  3  3  7  8  9 13 17 19 19]\n"
          ]
        }
      ]
    },
    {
      "cell_type": "code",
      "source": [
        "# Create a 2D NumPy array of shape (3, 5) with random integers between 1 and 50. Sort the array by the second column and print the result.\n",
        "\n",
        "my_array = np.array(np.random.randint(1, 50, size = (3, 5)))\n",
        "print(my_array)\n",
        "sorted_array = my_array[my_array[:, 1].argsort()] # argsort est pour retourner les indices des élèmeent triés\n",
        "print(sorted_array)"
      ],
      "metadata": {
        "colab": {
          "base_uri": "https://localhost:8080/"
        },
        "id": "Kp6nnmJqCMaF",
        "outputId": "cdbee79a-f410-4e89-b2b7-d1edfde30b6b"
      },
      "id": "Kp6nnmJqCMaF",
      "execution_count": null,
      "outputs": [
        {
          "output_type": "stream",
          "name": "stdout",
          "text": [
            "[[36 24 15 30 33]\n",
            " [41 31 36 38  3]\n",
            " [ 2 32  3  9  3]]\n",
            "[[36 24 15 30 33]\n",
            " [41 31 36 38  3]\n",
            " [ 2 32  3  9  3]]\n"
          ]
        }
      ]
    },
    {
      "cell_type": "code",
      "source": [
        "# Create a 1D NumPy array with random integers between 1 and 100 of size 15. Find and print the indices of all elements greater than 50.\n",
        "\n",
        "my_array = np.array(np.random.randint(1, 100, 15))\n",
        "print(my_array)\n",
        "indices = np.where(my_array > 50)\n",
        "print(indices)"
      ],
      "metadata": {
        "colab": {
          "base_uri": "https://localhost:8080/"
        },
        "id": "wNsMWqIzCMNk",
        "outputId": "809b5d34-fe67-48f3-cfd9-347aa3490db0"
      },
      "id": "wNsMWqIzCMNk",
      "execution_count": null,
      "outputs": [
        {
          "output_type": "stream",
          "name": "stdout",
          "text": [
            "[63 20 20 92  8 10 86 41 24 27 10 66 98 29 13]\n",
            "(array([ 0,  3,  6, 11, 12]),)\n"
          ]
        }
      ]
    },
    {
      "cell_type": "markdown",
      "id": "cae87b85-1b79-465b-8f55-88041e823df9",
      "metadata": {
        "id": "cae87b85-1b79-465b-8f55-88041e823df9"
      },
      "source": [
        "### Exercise 12: Linear Algebra with NumPy\n",
        "\n",
        "- Create a 2D NumPy array of shape (2, 2) with random integers between 1 and 10. Compute and print the determinant of the array.\n",
        "\n",
        "- Create a 2D NumPy array of shape (3, 3) with random integers between 1 and 5. Compute and print the eigenvalues and eigenvectors of the array.\n",
        "\n",
        "- Create two 2D NumPy arrays of shape (2, 3) and (3, 2) with random integers between 1 and 10. Compute and print the matrix product of the two arrays."
      ]
    },
    {
      "cell_type": "code",
      "source": [
        "# Create a 2D NumPy array of shape (2, 2) with random integers between 1 and 10. Compute and print the determinant of the array.\n",
        "\n",
        "import numpy as np\n",
        "\n",
        "my_array = np.array(np.random.randint(1, 10, size = (2, 2)))\n",
        "# linalg est une collectinon qui contient plusieurs fonctions dont le determinent\n",
        "print(np.linalg.det(my_array))"
      ],
      "metadata": {
        "colab": {
          "base_uri": "https://localhost:8080/"
        },
        "id": "8fzesoL6PMYX",
        "outputId": "572750d0-8cc2-4544-90b9-5d9ffa411950"
      },
      "id": "8fzesoL6PMYX",
      "execution_count": null,
      "outputs": [
        {
          "output_type": "stream",
          "name": "stdout",
          "text": [
            "36.0\n"
          ]
        }
      ]
    },
    {
      "cell_type": "code",
      "source": [
        "# Create two 2D NumPy arrays of shape (2, 3) and (3, 2) with random integers between 1 and 10. Compute and print the matrix product of the two arrays.\n",
        "\n",
        "my_array1 = np.array(np.random.randint(1, 10, size = (2, 3)))\n",
        "my_array2 = np.array(np.random.randint(1, 10, size = (3, 2)))\n",
        "\n",
        "print(np.dot(my_array1, my_array2)) # Fonction générale pour le produit scalaire, aussi utilisée pour la multiplication matricielle.\n"
      ],
      "metadata": {
        "colab": {
          "base_uri": "https://localhost:8080/"
        },
        "id": "pmyl9rW5PQfG",
        "outputId": "874bf57e-a74a-4985-c4e9-bf4f63ba1adc"
      },
      "id": "pmyl9rW5PQfG",
      "execution_count": null,
      "outputs": [
        {
          "output_type": "stream",
          "name": "stdout",
          "text": [
            "[[21 49]\n",
            " [27 52]]\n"
          ]
        }
      ]
    },
    {
      "cell_type": "code",
      "source": [
        "# Compute the matrix product\n",
        "C = my_array1 @ my_array2 # Opérateur de multiplication matricielle introduit dans Python 3.5.\n",
        "C"
      ],
      "metadata": {
        "colab": {
          "base_uri": "https://localhost:8080/"
        },
        "id": "YYI00lq9bo7d",
        "outputId": "5d4ca6c7-0dbf-445b-af53-b3c643d59f61"
      },
      "id": "YYI00lq9bo7d",
      "execution_count": null,
      "outputs": [
        {
          "output_type": "execute_result",
          "data": {
            "text/plain": [
              "array([[21, 49],\n",
              "       [27, 52]])"
            ]
          },
          "metadata": {},
          "execution_count": 166
        }
      ]
    },
    {
      "cell_type": "code",
      "source": [
        "# Compute the matrix product\n",
        "np.matmul(my_array1, my_array2) # Fonction dédiée à la multiplication matricielle avec support pour le broadcasting."
      ],
      "metadata": {
        "colab": {
          "base_uri": "https://localhost:8080/"
        },
        "id": "edxXwl2Abt4m",
        "outputId": "82841567-f3dc-4d50-a955-d7a734b64cbc"
      },
      "id": "edxXwl2Abt4m",
      "execution_count": null,
      "outputs": [
        {
          "output_type": "execute_result",
          "data": {
            "text/plain": [
              "array([[21, 49],\n",
              "       [27, 52]])"
            ]
          },
          "metadata": {},
          "execution_count": 167
        }
      ]
    },
    {
      "cell_type": "markdown",
      "id": "eecfc1f7-31bd-4fd5-b2c7-92cf7ee6098a",
      "metadata": {
        "id": "eecfc1f7-31bd-4fd5-b2c7-92cf7ee6098a"
      },
      "source": [
        "### Exercise 13: Random Sampling and Distributions\n",
        "\n",
        "- Create a 1D NumPy array of 10 random samples from a uniform distribution over [0, 1) and print the array.\n",
        "\n",
        "- Create a 2D NumPy array of shape (3, 3) with random samples from a normal distribution with mean 0 and standard deviation 1. Print the array.\n",
        "\n",
        "- Create a 1D NumPy array of 20 random integers between 1 and 100. Compute and print the histogram of the array with 5 bins."
      ]
    },
    {
      "cell_type": "code",
      "source": [
        "# Create a 1D NumPy array of 10 random samples from a uniform distribution over [0, 1) and print the array.\n",
        "\n",
        "import numpy as np\n",
        "\n",
        "my_array = np.random.rand(10)\n",
        "print(my_array)\n"
      ],
      "metadata": {
        "colab": {
          "base_uri": "https://localhost:8080/"
        },
        "id": "JCPAYLfOdUpd",
        "outputId": "462e0996-f324-4ad4-84b0-70fc5afffd05"
      },
      "id": "JCPAYLfOdUpd",
      "execution_count": null,
      "outputs": [
        {
          "output_type": "stream",
          "name": "stdout",
          "text": [
            "[0.60250632 0.24066714 0.914941   0.7524157  0.4525303  0.15110674\n",
            " 0.23650364 0.28266088 0.56701462 0.6347076 ]\n"
          ]
        }
      ]
    },
    {
      "cell_type": "code",
      "source": [
        "# Create a 2D NumPy array of shape (3, 3) with random samples from a normal distribution with mean 0 and standard deviation 1. Print the array.\n",
        "\n",
        "\"\"\"est une méthode abrégée pour générer des échantillons à partir d'une distribution normale standard,\n",
        "#mais elle ne permet pas de personnaliser la moyenne ou l'écart type.\"\"\"\n",
        "array = np.random.randn(3, 3)\n",
        "array\n"
      ],
      "metadata": {
        "colab": {
          "base_uri": "https://localhost:8080/"
        },
        "id": "MaNlf4PNdW4h",
        "outputId": "7fcdd237-6942-4cd2-99d3-4c943aceea01"
      },
      "id": "MaNlf4PNdW4h",
      "execution_count": null,
      "outputs": [
        {
          "output_type": "execute_result",
          "data": {
            "text/plain": [
              "array([[-1.18154301,  1.24462481, -0.10074293],\n",
              "       [ 0.84654245,  0.88508915,  0.30216844],\n",
              "       [-0.8819097 , -0.49490875, -1.11522401]])"
            ]
          },
          "metadata": {},
          "execution_count": 169
        }
      ]
    },
    {
      "cell_type": "code",
      "source": [
        "array = np.random.normal(loc=0, scale=1, size=(3, 3)) # permet de spécifier la moyenne (loc) et l'écart type (scale) si nécessaire.\n",
        "array"
      ],
      "metadata": {
        "colab": {
          "base_uri": "https://localhost:8080/"
        },
        "id": "8KH-IimTjzkh",
        "outputId": "7dea92d9-7849-43e0-9dc7-4285dd5c82d6"
      },
      "id": "8KH-IimTjzkh",
      "execution_count": null,
      "outputs": [
        {
          "output_type": "execute_result",
          "data": {
            "text/plain": [
              "array([[ 0.21677941, -0.33262856, -0.46069332],\n",
              "       [-0.2771479 , -0.53905779, -0.78541074],\n",
              "       [-0.33489735, -0.59960788, -0.1002488 ]])"
            ]
          },
          "metadata": {},
          "execution_count": 170
        }
      ]
    },
    {
      "cell_type": "code",
      "source": [
        "# Create a 1D NumPy array of 20 random integers between 1 and 100. Compute and print the histogram of the array with 5 bins.\n",
        "\n",
        "import numpy as np\n",
        "import matplotlib.pyplot as plt\n",
        "\n",
        "my_array = np.random.randint(1, 100, 20)\n",
        "plt.hist(my_array, bins=5) # bins=5, ce qui signifie que les données seront divisées en 5 intervalles espacés de manière égale.\n",
        "plt.show()\n"
      ],
      "metadata": {
        "colab": {
          "base_uri": "https://localhost:8080/",
          "height": 430
        },
        "id": "U8TAHfhjdYgr",
        "outputId": "c06028f5-92ed-4ad6-e2c4-db4fb39e84cf"
      },
      "id": "U8TAHfhjdYgr",
      "execution_count": null,
      "outputs": [
        {
          "output_type": "display_data",
          "data": {
            "text/plain": [
              "<Figure size 640x480 with 1 Axes>"
            ],
            "image/png": "[encoded data removed]"
          },
          "metadata": {}
        }
      ]
    },
    {
      "cell_type": "markdown",
      "id": "a26d6e8f-d94c-46d1-97ab-e52e09ded457",
      "metadata": {
        "id": "a26d6e8f-d94c-46d1-97ab-e52e09ded457"
      },
      "source": [
        "### Exercise 14: Advanced Indexing and Selection\n",
        "\n",
        "- Create a 2D NumPy array of shape (5, 5) with random integers between 1 and 20. Select and print the diagonal elements of the array.\n",
        "\n",
        "- Create a 1D NumPy array of 10 random integers between 1 and 50. Use advanced indexing to select and print all elements that are prime numbers.\n",
        "\n",
        "- Create a 2D NumPy array of shape (4, 4) with random integers between 1 and 10. Select and print all elements that are even numbers."
      ]
    },
    {
      "cell_type": "code",
      "source": [
        "# Create a 2D NumPy array of shape (5, 5) with random integers between 1 and 20. Select and print the diagonal elements of the array.\n",
        "\n",
        "import numpy as np\n",
        "\n",
        "my_array = np.array(np.random.randint(1, 20, size = (5, 5)))\n",
        "print(my_array)\n",
        "print(np.diag(my_array))\n"
      ],
      "metadata": {
        "id": "jpkoqLtct75g",
        "colab": {
          "base_uri": "https://localhost:8080/"
        },
        "outputId": "a21ee561-1e71-4feb-a18e-5f69681159ea"
      },
      "id": "jpkoqLtct75g",
      "execution_count": null,
      "outputs": [
        {
          "output_type": "stream",
          "name": "stdout",
          "text": [
            "[[ 8 19 12 14  2]\n",
            " [ 4  3  4 17  1]\n",
            " [ 8  9  8 14  8]\n",
            " [ 9 16 15 13 19]\n",
            " [ 1 16 18 11  8]]\n",
            "[ 8  3  8 13  8]\n"
          ]
        }
      ]
    },
    {
      "cell_type": "code",
      "source": [
        "import numpy as np\n",
        "\n",
        "def primaire(n):\n",
        "    \"\"\"Checks if a number is prime.\"\"\"\n",
        "    if n <= 1:\n",
        "        return False\n",
        "    if n <= 3:\n",
        "        return True  # 2 and 3 are prime\n",
        "    if n % 2 == 0 or n % 3 == 0:\n",
        "        return False  # eliminate multiples of 2 and 3\n",
        "    i = 5\n",
        "    while i * i <= n:\n",
        "        if n % i == 0 or n % (i + 2) == 0:\n",
        "            return False\n",
        "        i += 6\n",
        "    return True\n",
        "\n",
        "\n",
        "my_array = np.random.randint(1, 50, 10)\n",
        "print(\"Original array:\", my_array)\n",
        "\n",
        "nb_primaires = my_array[np.vectorize(primaire)(my_array)]\n",
        "print(\"Les nombres primaires sont :\", nb_primaires)\n"
      ],
      "metadata": {
        "colab": {
          "base_uri": "https://localhost:8080/"
        },
        "id": "zkzr4AeWfLkd",
        "outputId": "7709625d-d60c-4153-fcd5-427fd9ee1423"
      },
      "id": "zkzr4AeWfLkd",
      "execution_count": null,
      "outputs": [
        {
          "output_type": "stream",
          "name": "stdout",
          "text": [
            "Original array: [ 7 19 40 30 25 30  7 20 11 22]\n",
            "Les nombres primaires sont : [ 7 19  7 11]\n"
          ]
        }
      ]
    },
    {
      "cell_type": "code",
      "source": [
        "# Create a 2D NumPy array of shape (4, 4) with random integers between 1 and 10. Select and print all elements that are even numbers.\n",
        "\n",
        "import numpy as np\n",
        "\n",
        "my_array = np.array(np.random.randint(1, 10, size = (4, 4)))\n",
        "print(my_array)\n",
        "print(my_array[my_array % 2 == 0])"
      ],
      "metadata": {
        "id": "ABD6Urc3t87d",
        "colab": {
          "base_uri": "https://localhost:8080/"
        },
        "outputId": "c30d0350-af2d-41c1-a76a-ed0cc3334695"
      },
      "id": "ABD6Urc3t87d",
      "execution_count": null,
      "outputs": [
        {
          "output_type": "stream",
          "name": "stdout",
          "text": [
            "[[3 4 3 7]\n",
            " [1 2 8 6]\n",
            " [4 8 4 6]\n",
            " [3 1 2 9]]\n",
            "[4 2 8 6 4 8 4 6 2]\n"
          ]
        }
      ]
    },
    {
      "cell_type": "markdown",
      "id": "b54fdda9-0bac-4963-8200-26bf0cb6ed3a",
      "metadata": {
        "id": "b54fdda9-0bac-4963-8200-26bf0cb6ed3a"
      },
      "source": [
        "### Exercise 15: Handling Missing Data\n",
        "\n",
        "- Create a 1D NumPy array of length 10 with random integers between 1 and 10. Introduce `np.nan` at random positions and print the array.\n",
        "\n",
        "- Create a 2D NumPy array of shape (3, 4) with random integers between 1 and 10. Replace all elements that are less than 5 with `np.nan` and print the array.\n",
        "\n",
        "- Create a 1D NumPy array of length 15 with random integers between 1 and 20. Identify and print the indices of all `np.nan` values in the array."
      ]
    },
    {
      "cell_type": "code",
      "source": [
        "# Create a 1D NumPy array of length 10 with random integers between 1 and 10. Introduce np.nan at random positions and print the array.\n",
        "\n",
        "import numpy as np\n",
        "\n",
        "my_array = np.random.randint(1, 10, 10).astype(float)\n",
        "my_array[np.random.choice(10, 3, replace=False)] = np.nan\n",
        "print(my_array)\n"
      ],
      "metadata": {
        "id": "jNdwMBD6t-T4",
        "colab": {
          "base_uri": "https://localhost:8080/"
        },
        "outputId": "0a72be5f-dd64-49a4-d8e0-3208f7dba52a"
      },
      "id": "jNdwMBD6t-T4",
      "execution_count": null,
      "outputs": [
        {
          "output_type": "stream",
          "name": "stdout",
          "text": [
            "[ 9.  2. nan  7.  9. nan  4. nan  4.  6.]\n"
          ]
        }
      ]
    },
    {
      "cell_type": "code",
      "source": [
        "# Create a 2D NumPy array of shape (3, 4) with random integers between 1 and 10. Replace all elements that are less than 5 with np.nan and print the array.\n",
        "\n",
        "import numpy as np\n",
        "\n",
        "my_array = np.random.randint(1, 10, size = (3, 4)).astype(float)\n",
        "my_array[my_array < 5] = np.nan\n",
        "print(my_array)"
      ],
      "metadata": {
        "id": "6W5neL59t-NV",
        "colab": {
          "base_uri": "https://localhost:8080/"
        },
        "outputId": "55b7c4cb-9af9-47cb-c6c5-df558b2f89e5"
      },
      "id": "6W5neL59t-NV",
      "execution_count": null,
      "outputs": [
        {
          "output_type": "stream",
          "name": "stdout",
          "text": [
            "[[ 9.  6.  7. nan]\n",
            " [nan nan  9. nan]\n",
            " [ 8.  6.  9.  8.]]\n"
          ]
        }
      ]
    },
    {
      "cell_type": "code",
      "source": [
        "#Create a 1D NumPy array of length 15 with random integers between 1 and 20. Identify and print the indices of all np.nan values in the array.\n",
        "\n",
        "import numpy as np\n",
        "\n",
        "my_array = np.random.randint(1, 21, 15).astype(float)\n",
        "my_array[np.random.choice(15, 2, replace=False)] = np.nan\n",
        "nan_indices = np.where(np.isnan(my_array))[0]\n",
        "print(\"Array:\", my_array)\n",
        "print(\"Indices des valeurs np.nan :\", nan_indices)\n"
      ],
      "metadata": {
        "colab": {
          "base_uri": "https://localhost:8080/"
        },
        "id": "VeYwp9VQws-3",
        "outputId": "0195e0ea-d461-4132-bcf7-af91824d0cd3"
      },
      "id": "VeYwp9VQws-3",
      "execution_count": null,
      "outputs": [
        {
          "output_type": "stream",
          "name": "stdout",
          "text": [
            "Array: [14.  3. 14.  6.  9. 16. 12. nan  7.  5.  3.  4. 13. nan  2.]\n",
            "Indices des valeurs np.nan : [ 7 13]\n"
          ]
        }
      ]
    },
    {
      "cell_type": "markdown",
      "id": "33d9de84-962e-4abb-baa6-d23ed68d3a8e",
      "metadata": {
        "id": "33d9de84-962e-4abb-baa6-d23ed68d3a8e"
      },
      "source": [
        "### Exercise 16: Performance Optimization with NumPy\n",
        "\n",
        "- Create a large 1D NumPy array with 1 million random integers between 1 and 100. Compute the mean and standard deviation using NumPy functions and measure the time taken.\n",
        "\n",
        "- Create two large 2D NumPy arrays of shape (1000, 1000) with random integers between 1 and 10. Perform element-wise addition and measure the time taken.\n",
        "\n",
        "- Create a 3D NumPy array of shape (100, 100, 100) with random integers between 1 and 10. Compute the sum along each axis and measure the time taken."
      ]
    },
    {
      "cell_type": "code",
      "source": [
        "# Create a large 1D NumPy array with 1 million random integers between 1 and 100. Compute the mean and standard deviation using NumPy functions and measure the time taken.\n",
        "\n",
        "import numpy as np\n",
        "import time\n",
        "\n",
        "start_time = time.time()\n",
        "large_array = np.random.randint(1, 101, size=1000000)\n",
        "\n",
        "mean_value = np.mean(large_array)\n",
        "std_deviation = np.std(large_array)\n",
        "\n",
        "end_time = time.time()\n",
        "time_taken = end_time - start_time\n",
        "\n",
        "# Output the results\n",
        "print(f\"Mean: {mean_value}\")\n",
        "print(f\"Standard Deviation: {std_deviation}\")\n",
        "print(f\"Temps: {time_taken} seconds\")\n"
      ],
      "metadata": {
        "id": "IET3RKLQt_Mv",
        "colab": {
          "base_uri": "https://localhost:8080/"
        },
        "outputId": "33cb245b-af15-4f64-cea0-5b9e27e0684c"
      },
      "id": "IET3RKLQt_Mv",
      "execution_count": null,
      "outputs": [
        {
          "output_type": "stream",
          "name": "stdout",
          "text": [
            "Mean: 50.530365\n",
            "Standard Deviation: 28.866474463757694\n",
            "Temps: 0.03634500503540039 seconds\n"
          ]
        }
      ]
    },
    {
      "cell_type": "code",
      "source": [
        "# Create two large 2D NumPy arrays of shape (1000, 1000) with random integers between 1 and 10. Perform element-wise addition and measure the time taken.\n",
        "\"\"\"\n",
        "Element-wise addition is a mathematical operation performed on matrices or arrays of the same size.\n",
        "It involves adding the corresponding elements of each matrix or array together.\n",
        "\"\"\"\n",
        "\n",
        "import numpy as np\n",
        "import time\n",
        "\n",
        "array1 = np.random.randint(1, 11, size=(1000, 1000))\n",
        "array2 = np.random.randint(1, 11, size=(1000, 1000))\n",
        "\n",
        "start_time = time.time()\n",
        "result = array1 + array2\n",
        "end_time = time.time()\n",
        "\n",
        "elapsed_time = end_time - start_time\n",
        "\n",
        "print(\"Time taken for element-wise addition:\", elapsed_time, \"seconds\")"
      ],
      "metadata": {
        "id": "MTuoaIhnt_IV",
        "colab": {
          "base_uri": "https://localhost:8080/"
        },
        "outputId": "7a888b58-3e3f-46d7-d81f-a88a4f4feb2b"
      },
      "id": "MTuoaIhnt_IV",
      "execution_count": null,
      "outputs": [
        {
          "output_type": "stream",
          "name": "stdout",
          "text": [
            "Time taken for element-wise addition: 0.007508516311645508 seconds\n"
          ]
        }
      ]
    },
    {
      "cell_type": "code",
      "source": [
        "# Create a 3D NumPy array of shape (100, 100, 100) with random integers between 1 and 10. Compute the sum along each axis and measure the time taken.\n",
        "array = np.random.randint(1, 11, size=(100, 100, 100))\n",
        "\n",
        "start_time = time.time()\n",
        "sum_axis_0 = np.sum(array, axis=0)\n",
        "end_time = time.time()\n",
        "elapsed_time_0 = end_time - start_time\n",
        "print(\"Time for axis_0: \", elapsed_time_0)\n",
        "\n",
        "start_time = time.time()\n",
        "sum_axis_0 = np.sum(array, axis=0)\n",
        "end_time = time.time()\n",
        "elapsed_time_1 = end_time - start_time\n",
        "print(\"Time for axis_1: \", elapsed_time_1)\n",
        "\n",
        "start_time = time.time()\n",
        "sum_axis_0 = np.sum(array, axis=0)\n",
        "end_time = time.time()\n",
        "elapsed_time_2 = end_time - start_time\n",
        "print(\"Time for axis_2: \", elapsed_time_2)\n",
        "\n",
        "# Measure the time taken\n",
        "elapsed_time = end_time - start_time\n",
        "\n",
        "print(\"Time taken for summing along each axis:\", elapsed_time_0 + elapsed_time_1 + elapsed_time_2, \"seconds\")"
      ],
      "metadata": {
        "id": "2vtyBtQOt_CY",
        "colab": {
          "base_uri": "https://localhost:8080/"
        },
        "outputId": "45f4f191-531a-4958-a8b0-6c84a1903c93"
      },
      "id": "2vtyBtQOt_CY",
      "execution_count": null,
      "outputs": [
        {
          "output_type": "stream",
          "name": "stdout",
          "text": [
            "Time for axis_0:  0.0016169548034667969\n",
            "Time for axis_1:  0.0018358230590820312\n",
            "Time for axis_2:  0.0015914440155029297\n",
            "Time taken for summing along each axis: 0.005044221878051758 seconds\n"
          ]
        }
      ]
    },
    {
      "cell_type": "markdown",
      "id": "f032400e-d7e4-47dd-846f-b76e7fac9f72",
      "metadata": {
        "id": "f032400e-d7e4-47dd-846f-b76e7fac9f72"
      },
      "source": [
        "### Exercise 17: Cumulative and Aggregate Functions\n",
        "\n",
        "- Create a 1D NumPy array with the numbers from 1 to 10. Compute and print the cumulative sum and cumulative product of the array.\n",
        "\n",
        "- Create a 2D NumPy array of shape (4, 4) with random integers between 1 and 20. Compute and print the cumulative sum along the rows and the columns.\n",
        "\n",
        "- Create a 1D NumPy array with 10 random integers between 1 and 50. Compute and print the minimum, maximum, and sum of the array."
      ]
    },
    {
      "cell_type": "code",
      "source": [
        "# Create a 1D NumPy array with the numbers from 1 to 10. Compute and print the cumulative sum and cumulative product of the array.\n",
        "\n",
        "import numpy as np\n",
        "\n",
        "array1d = np.arange(1, 11)\n",
        "cumulative_sum = np.cumsum(array1d)\n",
        "cumulative_product = np.cumprod(array1d)\n",
        "print(\"Cumulative Sum:\", cumulative_sum)\n",
        "print(\"Cumulative Product:\", cumulative_product)"
      ],
      "metadata": {
        "colab": {
          "base_uri": "https://localhost:8080/"
        },
        "id": "AOlwz3T88J3Q",
        "outputId": "c36535b8-21fd-4782-d705-1d6d04c2c54a"
      },
      "id": "AOlwz3T88J3Q",
      "execution_count": null,
      "outputs": [
        {
          "output_type": "stream",
          "name": "stdout",
          "text": [
            "Cumulative Sum: [ 1  3  6 10 15 21 28 36 45 55]\n",
            "Cumulative Product: [      1       2       6      24     120     720    5040   40320  362880\n",
            " 3628800]\n"
          ]
        }
      ]
    },
    {
      "cell_type": "code",
      "source": [
        "# Create a 2D NumPy array of shape (4, 4) with random integers between 1 and 20. Compute and print the cumulative sum along the rows and the columns.\n",
        "\n",
        "import numpy as np\n",
        "\n",
        "array2d = np.random.randint(1, 21, size=(4, 4))\n",
        "cumulative_sum_rows = np.cumsum(array2d, axis=1)\n",
        "cumulative_sum_cols = np.cumsum(array2d, axis=0)\n",
        "\n",
        "\n",
        "print(\"Cumulative Sum along Rows:\")\n",
        "print(cumulative_sum_rows)\n",
        "\n",
        "print(\"\\nCumulative Sum along Columns:\")\n",
        "print(cumulative_sum_cols)"
      ],
      "metadata": {
        "colab": {
          "base_uri": "https://localhost:8080/"
        },
        "id": "nrVio0yJ8L-d",
        "outputId": "7da3ac6f-406d-49c1-b0f8-d9f9bb5f2604"
      },
      "id": "nrVio0yJ8L-d",
      "execution_count": null,
      "outputs": [
        {
          "output_type": "stream",
          "name": "stdout",
          "text": [
            "Cumulative Sum along Rows:\n",
            "[[ 8 14 30 36]\n",
            " [17 30 43 46]\n",
            " [ 4 23 31 45]\n",
            " [ 2 20 30 37]]\n",
            "\n",
            "Cumulative Sum along Columns:\n",
            "[[ 8  6 16  6]\n",
            " [25 19 29  9]\n",
            " [29 38 37 23]\n",
            " [31 56 47 30]]\n"
          ]
        }
      ]
    },
    {
      "cell_type": "code",
      "source": [
        "# Create a 1D NumPy array with 10 random integers between 1 and 50. Compute and print the minimum, maximum, and sum of the array.\n",
        "import numpy as np\n",
        "\n",
        "array1d = np.random.randint(1, 51, size=10)\n",
        "minimum = np.min(array1d)\n",
        "maximum = np.max(array1d)\n",
        "sum = np.sum(array1d)\n",
        "\n",
        "print(\"Minimum:\", minimum)\n",
        "print(\"Maximum:\", maximum)\n",
        "print(\"Sum:\", sum)"
      ],
      "metadata": {
        "colab": {
          "base_uri": "https://localhost:8080/"
        },
        "id": "nL0PuQrl8ODq",
        "outputId": "94e82ad3-daea-4bcc-baaf-c1c46d3fb64a"
      },
      "id": "nL0PuQrl8ODq",
      "execution_count": null,
      "outputs": [
        {
          "output_type": "stream",
          "name": "stdout",
          "text": [
            "Minimum: 5\n",
            "Maximum: 44\n",
            "Sum: 267\n"
          ]
        }
      ]
    },
    {
      "cell_type": "markdown",
      "id": "35575ef6-9d78-46cf-8d62-d0474ba6d98a",
      "metadata": {
        "id": "35575ef6-9d78-46cf-8d62-d0474ba6d98a"
      },
      "source": [
        "### Exercise 18: Working with Dates and Times\n",
        "\n",
        "- Create an array of 10 dates starting from today with a daily frequency and print the array.\n",
        "\n",
        "- Create an array of 5 dates starting from January 1, 2022 with a monthly frequency and print the array.\n",
        "\n",
        "- Create a 1D array with 10 random timestamps in the year 2023. Convert the timestamps to NumPy datetime64 objects and print the result."
      ]
    },
    {
      "cell_type": "code",
      "source": [
        "# Create an array of 10 dates starting from today with a daily frequency and print the array.\n",
        "import numpy as np\n",
        "import datetime\n",
        "\n",
        "today = datetime.date.today()\n",
        "date_array = np.array([today + datetime.timedelta(days=i) for i in range(10)])\n",
        "print(date_array)"
      ],
      "metadata": {
        "colab": {
          "base_uri": "https://localhost:8080/"
        },
        "id": "I2OZ-58R9la5",
        "outputId": "e3f7d424-7dd1-47b6-f407-a2901cce579a"
      },
      "id": "I2OZ-58R9la5",
      "execution_count": null,
      "outputs": [
        {
          "output_type": "stream",
          "name": "stdout",
          "text": [
            "[datetime.date(2024, 9, 21) datetime.date(2024, 9, 22)\n",
            " datetime.date(2024, 9, 23) datetime.date(2024, 9, 24)\n",
            " datetime.date(2024, 9, 25) datetime.date(2024, 9, 26)\n",
            " datetime.date(2024, 9, 27) datetime.date(2024, 9, 28)\n",
            " datetime.date(2024, 9, 29) datetime.date(2024, 9, 30)]\n"
          ]
        }
      ]
    },
    {
      "cell_type": "code",
      "source": [
        "# Create an array of 5 dates starting from January 1, 2022 with a monthly frequency and print the array.\n",
        "from dateutil.relativedelta import relativedelta\n",
        "import numpy as np\n",
        "\n",
        "start_date = datetime.date(2022, 1, 1)\n",
        "date_array = np.array([start_date + relativedelta(months=i) for i in range(5)])\n",
        "\n",
        "\n",
        "print(date_array)"
      ],
      "metadata": {
        "colab": {
          "base_uri": "https://localhost:8080/"
        },
        "id": "wkykB9Z99n__",
        "outputId": "79570b91-11b8-4b56-8522-22ae5b325a65"
      },
      "id": "wkykB9Z99n__",
      "execution_count": null,
      "outputs": [
        {
          "output_type": "stream",
          "name": "stdout",
          "text": [
            "[datetime.date(2022, 1, 1) datetime.date(2022, 2, 1)\n",
            " datetime.date(2022, 3, 1) datetime.date(2022, 4, 1)\n",
            " datetime.date(2022, 5, 1)]\n"
          ]
        }
      ]
    },
    {
      "cell_type": "code",
      "source": [
        "# Create a 1D array with 10 random timestamps in the year 2023. Convert the timestamps to NumPy datetime64 objects and print the result.\n",
        "import numpy as np\n",
        "import pandas as pd\n",
        "\n",
        "start_date = '2023-01-01'\n",
        "end_date = '2023-12-31'\n",
        "\n",
        "random_dates = pd.date_range(start=start_date, end=end_date, freq='D').to_series().sample(n=10).values\n",
        "timestamps = np.array(random_dates, dtype='datetime64[ns]')\n",
        "\n",
        "\n",
        "print(timestamps)\n"
      ],
      "metadata": {
        "colab": {
          "base_uri": "https://localhost:8080/"
        },
        "id": "PIKEn8vw9o0I",
        "outputId": "949efac6-0986-4779-d114-c3216d463563"
      },
      "id": "PIKEn8vw9o0I",
      "execution_count": null,
      "outputs": [
        {
          "output_type": "stream",
          "name": "stdout",
          "text": [
            "['2023-12-22T00:00:00.000000000' '2023-12-20T00:00:00.000000000'\n",
            " '2023-04-19T00:00:00.000000000' '2023-08-31T00:00:00.000000000'\n",
            " '2023-10-09T00:00:00.000000000' '2023-10-13T00:00:00.000000000'\n",
            " '2023-03-09T00:00:00.000000000' '2023-12-30T00:00:00.000000000'\n",
            " '2023-10-29T00:00:00.000000000' '2023-04-24T00:00:00.000000000']\n"
          ]
        }
      ]
    },
    {
      "cell_type": "markdown",
      "id": "671be5ac-f653-4eae-9e14-94c950436c72",
      "metadata": {
        "id": "671be5ac-f653-4eae-9e14-94c950436c72"
      },
      "source": [
        "### Exercise 19: Creating Arrays with Custom Data Types\n",
        "\n",
        "- Create a 1D NumPy array of length 5 with custom data type to store integers and their corresponding binary representation as strings. Print the array.\n",
        "\n",
        "- Create a 2D NumPy array of shape (3, 3) with a custom data type to store complex numbers. Initialize the array with some complex numbers and print the array.\n",
        "\n",
        "- Create a structured array to store information about books with fields: title (string), author (string), and pages (integer). Add information for three books and print the structured array."
      ]
    },
    {
      "cell_type": "code",
      "source": [
        "# Create a 1D NumPy array of length 5 with custom data type to store integers and their corresponding binary representation as strings. Print the array.\n",
        "import numpy as np\n",
        "\n",
        "# Define a custom data type\n",
        "dtype = np.dtype([('integer', 'i4'), ('binary', 'U8')])\n",
        "random_integers = np.random.randint(0, 32, size=5)\n",
        "data = np.array([(num, bin(num)[2:]) for num in random_integers], dtype=dtype)\n",
        "\n",
        "print(data)"
      ],
      "metadata": {
        "colab": {
          "base_uri": "https://localhost:8080/"
        },
        "id": "XkPNIRtnEdIG",
        "outputId": "8d7fec35-6cb6-419b-c6dd-dbaaca866184"
      },
      "id": "XkPNIRtnEdIG",
      "execution_count": null,
      "outputs": [
        {
          "output_type": "stream",
          "name": "stdout",
          "text": [
            "[(16, '10000') ( 1, '1') (14, '1110') ( 8, '1000') (28, '11100')]\n"
          ]
        }
      ]
    },
    {
      "cell_type": "code",
      "source": [
        "# Create a 2D NumPy array of shape (3, 3) with a custom data type to store complex numbers. Initialize the array with some complex numbers and print the array.\n",
        "import numpy as np\n",
        "\n",
        "\n",
        "real_parts = np.random.rand(3, 3)\n",
        "imaginary_parts = np.random.rand(3, 3)\n",
        "data = real_parts + 1j * imaginary_parts\n",
        "\n",
        "print(data)\n",
        "\n"
      ],
      "metadata": {
        "colab": {
          "base_uri": "https://localhost:8080/"
        },
        "id": "gVZTVoEBEgxy",
        "outputId": "a2ee1855-a93e-4187-fc60-6e3e27df67bf"
      },
      "id": "gVZTVoEBEgxy",
      "execution_count": null,
      "outputs": [
        {
          "output_type": "stream",
          "name": "stdout",
          "text": [
            "[[0.72627441+0.97227913j 0.52935532+0.98033006j 0.67650431+0.52116936j]\n",
            " [0.90345412+0.61605746j 0.7441616 +0.64640969j 0.15408636+0.85485079j]\n",
            " [0.17520805+0.67043144j 0.96667379+0.06220526j 0.51583611+0.8022205j ]]\n"
          ]
        }
      ]
    },
    {
      "cell_type": "code",
      "source": [
        "# Create a structured array to store information about books with fields: title (string), author (string), and pages (integer). Add information for three books and print the structured array.\n",
        "# Define a custom data type for the structured array\n",
        "dtype = np.dtype([('title', 'U100'), ('author', 'U100'), ('pages', 'i4')])\n",
        "\n",
        "# Create a structured array with information about the three books\n",
        "books = np.array([\n",
        "    ('The Witcher', 'Andrzej Sapkowski', 400),\n",
        "    ('One Thousand and One Nights', 'Anonymous', 300),\n",
        "    ('Les Misérables', 'Victor Hugo', 1232)\n",
        "], dtype=dtype)\n",
        "books"
      ],
      "metadata": {
        "colab": {
          "base_uri": "https://localhost:8080/"
        },
        "id": "wWlPiN-lEjNl",
        "outputId": "723936f7-a194-4900-9316-6555f55ff683"
      },
      "id": "wWlPiN-lEjNl",
      "execution_count": null,
      "outputs": [
        {
          "output_type": "execute_result",
          "data": {
            "text/plain": [
              "array([('The Witcher', 'Andrzej Sapkowski',  400),\n",
              "       ('One Thousand and One Nights', 'Anonymous',  300),\n",
              "       ('Les Misérables', 'Victor Hugo', 1232)],\n",
              "      dtype=[('title', '<U100'), ('author', '<U100'), ('pages', '<i4')])"
            ]
          },
          "metadata": {},
          "execution_count": 189
        }
      ]
    },
    {
      "cell_type": "markdown",
      "id": "f2b7c323-ddd3-4099-a178-f7ea83e766d4",
      "metadata": {
        "id": "f2b7c323-ddd3-4099-a178-f7ea83e766d4"
      },
      "source": [
        "### Exercise 20: Creating Arrays with Custom Data Types\n",
        "\n",
        "- Create a 1D NumPy array of length 5 with custom data type to store integers and their corresponding binary representation as strings. Print the array.\n",
        "\n",
        "- Create a 2D NumPy array of shape (3, 3) with a custom data type to store complex numbers. Initialize the array with some complex numbers and print the array.\n",
        "\n",
        "- Create a structured array to store information about books with fields: title (string), author (string), and pages (integer). Add information for three books and print the structured array."
      ]
    },
    {
      "cell_type": "code",
      "source": [
        "# meme exo que 19."
      ],
      "metadata": {
        "id": "mOBI4hq4HrJw"
      },
      "id": "mOBI4hq4HrJw",
      "execution_count": null,
      "outputs": []
    }
  ],
  "metadata": {
    "kernelspec": {
      "display_name": "Python 3",
      "name": "python3"
    },
    "language_info": {
      "codemirror_mode": {
        "name": "ipython",
        "version": 3
      },
      "file_extension": ".py",
      "mimetype": "text/x-python",
      "name": "python",
      "nbconvert_exporter": "python",
      "pygments_lexer": "ipython3",
      "version": "3.11.7"
    },
    "colab": {
      "provenance": [],
      "collapsed_sections": [
        "a26d6e8f-d94c-46d1-97ab-e52e09ded457",
        "b54fdda9-0bac-4963-8200-26bf0cb6ed3a",
        "f032400e-d7e4-47dd-846f-b76e7fac9f72"
      ],
      "include_colab_link": true
    }
  },
  "nbformat": 4,
  "nbformat_minor": 5
}