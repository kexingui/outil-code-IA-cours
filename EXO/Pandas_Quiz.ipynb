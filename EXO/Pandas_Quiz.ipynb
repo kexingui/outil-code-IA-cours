{
 "cells": [
  {
   "cell_type": "markdown",
   "id": "7ffc1353-6377-4777-829c-8e3720926876",
   "metadata": {},
   "source": [
    "## Quiz: Introduction to Pandas DataFrames \n",
    "\n",
    "### Question 1. What is the primary purpose of using Pandas in data analysis? B \n",
    "   - A) To create visualizations\n",
    "   - B) To perform data manipulation and analysis\n",
    "   - C) To handle database operations\n",
    "\n",
    "### Question 2. What is a DataFrame in Pandas?  B\n",
    "   - A) A one-dimensional array-like object that can hold various data types\n",
    "   - B) A two-dimensional, size-mutable, and potentially heterogeneous tabular data structure with labeled axes\n",
    "   - C) A type of database table\n",
    "\n",
    "### Question 3. Which method is used to read a CSV file into a Pandas DataFrame?   B\n",
    "   - A) `read_excel()`\n",
    "   - B) `read_csv()`\n",
    "   - C) `read_table()`\n",
    "\n",
    "### Question 4. How can you select multiple columns from a DataFrame?   A\n",
    "   - A) Using a single list of column names\n",
    "   - B) Using a list of lists containing column names\n",
    "   - C) Using a tuple of column names\n",
    "\n",
    "### Question 5. Which method is used to select a subset of rows and columns by label or a boolean array? A\n",
    "   - A) `.loc[]`\n",
    "   - B) `.iloc[]`\n",
    "   - C) `.at[]`\n",
    "\n",
    "### Question 6. How can you add a new column to an existing DataFrame? B\n",
    "   - A) Using a method to add a column and values\n",
    "   - B) Assigning values to a new column name directly\n",
    "   - C) Using a method to update the DataFrame with new values\n",
    "\n",
    "### Question 7. What will be the result of merging two DataFrames with the same key column using the merge function? A\n",
    "   - A) The intersection of rows based on the key column\n",
    "   - B) The union of rows based on the key column\n",
    "   - C) A random combination of rows\n",
    "\n",
    "### Question 8. Which function is used to concatenate two DataFrames along rows or columns? B\n",
    "   - A) The merge function1\n",
    "   - B) The concat function\n",
    "   - C) The append function\n",
    "\n",
    "### Question 9. How can you remove missing values (NaNs) from a DataFrame? A\n",
    "   - A) Using the dropna function\n",
    "   - B) Using the remove_na function\n",
    "   - C) Using the delete_na function\n",
    "\n",
    "### Question 10. What is the output of the describe function? B\n",
    "   - A) The data types of each column\n",
    "   - B) A statistical summary of the numerical columns\n",
    "   - C) The first few rows of the DataFrame"
   ]
  }
 ],
 "metadata": {
  "kernelspec": {
   "display_name": "Python 3 (ipykernel)",
   "language": "python",
   "name": "python3"
  },
  "language_info": {
   "codemirror_mode": {
    "name": "ipython",
    "version": 3
   },
   "file_extension": ".py",
   "mimetype": "text/x-python",
   "name": "python",
   "nbconvert_exporter": "python",
   "pygments_lexer": "ipython3",
   "version": "3.11.7"
  }
 },
 "nbformat": 4,
 "nbformat_minor": 5
}
